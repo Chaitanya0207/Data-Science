{
 "cells": [
  {
   "cell_type": "markdown",
   "metadata": {},
   "source": [
    "# Weather Dataset"
   ]
  },
  {
   "cell_type": "markdown",
   "metadata": {},
   "source": [
    "# Abstract"
   ]
  },
  {
   "cell_type": "markdown",
   "metadata": {},
   "source": [
    "The main aim is to perform linear regression, logistic regression, regularization and to find interaction terms/effect if present on the weather dataset - to predict the accuracy and determine the best models using step wise regression and multi-colinearity.\n"
   ]
  },
  {
   "cell_type": "markdown",
   "metadata": {},
   "source": [
    "### Dataset:"
   ]
  },
  {
   "cell_type": "markdown",
   "metadata": {},
   "source": [
    "This notebook contains data cleaning and visualisation along with Linear and Logistic Regressions. The dataset considered here is Historical weather around Szeged,Hungary - from 2006 to 2016 : https://www.kaggle.com/budincsevity/szeged-weather/version/1\n",
    "\n",
    "The dataset contains 12 columns with 95937 observations.\n",
    "\n",
    "The description for the 12 features is given below:\n",
    "\n",
    "Formatted Date : It is the date recorded for each of the day.                              \n",
    "Summary : It is a categorical value which depicts the type of the day like Foggy, breezy and so on..    \n",
    "Precip Type :  It is a binary column which depicts the day with either Snowfall or rainfall.                                 \n",
    "Temperature (C) : It is the temperature recorded on that particular day.                                                    \n",
    "Apparent Temperature (C) : It is the apparent temperature recorded on that particular day in degree celsius.                   \n",
    "Humidity : It is the humidity value recorded on a particular day.                                                     \n",
    "Wind Speed (km/h) : It is the wind speed recorded in km/h.                                                           \n",
    "Wind Bearing (degrees): It is the wind bearing in degrees on a day.                                                       \n",
    "Visibility (km) : It is the visibility in km on a particular day.                                                      \n",
    "Loud Cover : It is the feature which describes whether the sky is clear or covered with clouds.                                 \n",
    "Pressure (millibars) : It is the atmospheric air pressure ie., force per unit area in millibars.                              \n",
    "Daily Summary : It is the type of the day depicted with values like foggy,cloudy, rainy or breezy and so on..           "
   ]
  },
  {
   "cell_type": "markdown",
   "metadata": {},
   "source": [
    "### Methods Used:"
   ]
  },
  {
   "cell_type": "markdown",
   "metadata": {},
   "source": [
    "Linear model                      \n",
    "Logistic model                           \n",
    "Multi-colinearity and step-wise regression                                  \n",
    "Interaction effects                  \n",
    "Regularization             "
   ]
  },
  {
   "cell_type": "markdown",
   "metadata": {},
   "source": [
    "### Conclusion :"
   ]
  },
  {
   "cell_type": "markdown",
   "metadata": {},
   "source": [
    "On performing Linear and Logistic regression the best models was predicted with highest accuracy and R squared and adjusted R squared values."
   ]
  },
  {
   "cell_type": "markdown",
   "metadata": {},
   "source": [
    "## Importing required libraries\n"
   ]
  },
  {
   "cell_type": "code",
   "execution_count": 422,
   "metadata": {},
   "outputs": [],
   "source": [
    "import pandas as pd\n",
    "import matplotlib.pyplot as plt\n",
    "import statsmodels.api as sm\n",
    "import statsmodels as stats\n",
    "import numpy as np\n",
    "import seaborn as sns\n",
    "import warnings\n",
    "warnings.filterwarnings('ignore')\n",
    "from sklearn import linear_model\n",
    "from sklearn.model_selection import cross_val_score\n",
    "from sklearn.metrics import mean_squared_error, make_scorer\n",
    "from statsmodels.formula.api import ols\n",
    "from sklearn.feature_selection import RFE\n",
    "from sklearn.linear_model import LogisticRegression # to perform linear regression\n",
    "from sklearn.linear_model import LinearRegression # to perform logistci regression\n",
    "from sklearn.metrics import classification_report\n",
    "import statsmodels.api as sm\n",
    "from sklearn import linear_model # Scikit learn library that implements generalized linear models\n",
    "from sklearn.preprocessing import LabelEncoder, OneHotEncoder # To encode categorical variables\n",
    "from sklearn.model_selection import train_test_split # To split train and test dataset\n",
    "from statsmodels.stats.outliers_influence import variance_inflation_factor # to check multicolinearity\n",
    "from sklearn.model_selection import cross_val_score # To perform cross validation"
   ]
  },
  {
   "cell_type": "markdown",
   "metadata": {},
   "source": [
    "## Loading the Dataset using Pandas Libraries"
   ]
  },
  {
   "cell_type": "code",
   "execution_count": 423,
   "metadata": {},
   "outputs": [],
   "source": [
    "data = pd.read_csv('weatherHistory.csv')"
   ]
  },
  {
   "cell_type": "markdown",
   "metadata": {},
   "source": [
    "# Exploratory Data Analysis"
   ]
  },
  {
   "cell_type": "code",
   "execution_count": 424,
   "metadata": {},
   "outputs": [
    {
     "data": {
      "text/html": [
       "<div>\n",
       "<style scoped>\n",
       "    .dataframe tbody tr th:only-of-type {\n",
       "        vertical-align: middle;\n",
       "    }\n",
       "\n",
       "    .dataframe tbody tr th {\n",
       "        vertical-align: top;\n",
       "    }\n",
       "\n",
       "    .dataframe thead th {\n",
       "        text-align: right;\n",
       "    }\n",
       "</style>\n",
       "<table border=\"1\" class=\"dataframe\">\n",
       "  <thead>\n",
       "    <tr style=\"text-align: right;\">\n",
       "      <th></th>\n",
       "      <th>Formatted Date</th>\n",
       "      <th>Summary</th>\n",
       "      <th>Precip Type</th>\n",
       "      <th>Temperature (C)</th>\n",
       "      <th>Apparent Temperature (C)</th>\n",
       "      <th>Humidity</th>\n",
       "      <th>Wind Speed (km/h)</th>\n",
       "      <th>Wind Bearing (degrees)</th>\n",
       "      <th>Visibility (km)</th>\n",
       "      <th>Loud Cover</th>\n",
       "      <th>Pressure (millibars)</th>\n",
       "      <th>Daily Summary</th>\n",
       "    </tr>\n",
       "  </thead>\n",
       "  <tbody>\n",
       "    <tr>\n",
       "      <th>0</th>\n",
       "      <td>2006-04-01 00:00:00.000 +0200</td>\n",
       "      <td>Partly Cloudy</td>\n",
       "      <td>rain</td>\n",
       "      <td>9.472222</td>\n",
       "      <td>7.388889</td>\n",
       "      <td>0.89</td>\n",
       "      <td>14.1197</td>\n",
       "      <td>251.0</td>\n",
       "      <td>15.8263</td>\n",
       "      <td>0.0</td>\n",
       "      <td>1015.13</td>\n",
       "      <td>Partly cloudy throughout the day.</td>\n",
       "    </tr>\n",
       "    <tr>\n",
       "      <th>1</th>\n",
       "      <td>2006-04-01 01:00:00.000 +0200</td>\n",
       "      <td>Partly Cloudy</td>\n",
       "      <td>rain</td>\n",
       "      <td>9.355556</td>\n",
       "      <td>7.227778</td>\n",
       "      <td>0.86</td>\n",
       "      <td>14.2646</td>\n",
       "      <td>259.0</td>\n",
       "      <td>15.8263</td>\n",
       "      <td>0.0</td>\n",
       "      <td>1015.63</td>\n",
       "      <td>Partly cloudy throughout the day.</td>\n",
       "    </tr>\n",
       "    <tr>\n",
       "      <th>2</th>\n",
       "      <td>2006-04-01 02:00:00.000 +0200</td>\n",
       "      <td>Mostly Cloudy</td>\n",
       "      <td>rain</td>\n",
       "      <td>9.377778</td>\n",
       "      <td>9.377778</td>\n",
       "      <td>0.89</td>\n",
       "      <td>3.9284</td>\n",
       "      <td>204.0</td>\n",
       "      <td>14.9569</td>\n",
       "      <td>0.0</td>\n",
       "      <td>1015.94</td>\n",
       "      <td>Partly cloudy throughout the day.</td>\n",
       "    </tr>\n",
       "    <tr>\n",
       "      <th>3</th>\n",
       "      <td>2006-04-01 03:00:00.000 +0200</td>\n",
       "      <td>Partly Cloudy</td>\n",
       "      <td>rain</td>\n",
       "      <td>8.288889</td>\n",
       "      <td>5.944444</td>\n",
       "      <td>0.83</td>\n",
       "      <td>14.1036</td>\n",
       "      <td>269.0</td>\n",
       "      <td>15.8263</td>\n",
       "      <td>0.0</td>\n",
       "      <td>1016.41</td>\n",
       "      <td>Partly cloudy throughout the day.</td>\n",
       "    </tr>\n",
       "    <tr>\n",
       "      <th>4</th>\n",
       "      <td>2006-04-01 04:00:00.000 +0200</td>\n",
       "      <td>Mostly Cloudy</td>\n",
       "      <td>rain</td>\n",
       "      <td>8.755556</td>\n",
       "      <td>6.977778</td>\n",
       "      <td>0.83</td>\n",
       "      <td>11.0446</td>\n",
       "      <td>259.0</td>\n",
       "      <td>15.8263</td>\n",
       "      <td>0.0</td>\n",
       "      <td>1016.51</td>\n",
       "      <td>Partly cloudy throughout the day.</td>\n",
       "    </tr>\n",
       "  </tbody>\n",
       "</table>\n",
       "</div>"
      ],
      "text/plain": [
       "                  Formatted Date        Summary Precip Type  Temperature (C)  \\\n",
       "0  2006-04-01 00:00:00.000 +0200  Partly Cloudy        rain         9.472222   \n",
       "1  2006-04-01 01:00:00.000 +0200  Partly Cloudy        rain         9.355556   \n",
       "2  2006-04-01 02:00:00.000 +0200  Mostly Cloudy        rain         9.377778   \n",
       "3  2006-04-01 03:00:00.000 +0200  Partly Cloudy        rain         8.288889   \n",
       "4  2006-04-01 04:00:00.000 +0200  Mostly Cloudy        rain         8.755556   \n",
       "\n",
       "   Apparent Temperature (C)  Humidity  Wind Speed (km/h)  \\\n",
       "0                  7.388889      0.89            14.1197   \n",
       "1                  7.227778      0.86            14.2646   \n",
       "2                  9.377778      0.89             3.9284   \n",
       "3                  5.944444      0.83            14.1036   \n",
       "4                  6.977778      0.83            11.0446   \n",
       "\n",
       "   Wind Bearing (degrees)  Visibility (km)  Loud Cover  Pressure (millibars)  \\\n",
       "0                   251.0          15.8263         0.0               1015.13   \n",
       "1                   259.0          15.8263         0.0               1015.63   \n",
       "2                   204.0          14.9569         0.0               1015.94   \n",
       "3                   269.0          15.8263         0.0               1016.41   \n",
       "4                   259.0          15.8263         0.0               1016.51   \n",
       "\n",
       "                       Daily Summary  \n",
       "0  Partly cloudy throughout the day.  \n",
       "1  Partly cloudy throughout the day.  \n",
       "2  Partly cloudy throughout the day.  \n",
       "3  Partly cloudy throughout the day.  \n",
       "4  Partly cloudy throughout the day.  "
      ]
     },
     "execution_count": 424,
     "metadata": {},
     "output_type": "execute_result"
    }
   ],
   "source": [
    "# displays the first five records/observations from the dataset\n",
    "data.head()"
   ]
  },
  {
   "cell_type": "code",
   "execution_count": 425,
   "metadata": {},
   "outputs": [
    {
     "data": {
      "text/html": [
       "<div>\n",
       "<style scoped>\n",
       "    .dataframe tbody tr th:only-of-type {\n",
       "        vertical-align: middle;\n",
       "    }\n",
       "\n",
       "    .dataframe tbody tr th {\n",
       "        vertical-align: top;\n",
       "    }\n",
       "\n",
       "    .dataframe thead th {\n",
       "        text-align: right;\n",
       "    }\n",
       "</style>\n",
       "<table border=\"1\" class=\"dataframe\">\n",
       "  <thead>\n",
       "    <tr style=\"text-align: right;\">\n",
       "      <th></th>\n",
       "      <th>Formatted Date</th>\n",
       "      <th>Summary</th>\n",
       "      <th>Precip Type</th>\n",
       "      <th>Temperature (C)</th>\n",
       "      <th>Apparent Temperature (C)</th>\n",
       "      <th>Humidity</th>\n",
       "      <th>Wind Speed (km/h)</th>\n",
       "      <th>Wind Bearing (degrees)</th>\n",
       "      <th>Visibility (km)</th>\n",
       "      <th>Loud Cover</th>\n",
       "      <th>Pressure (millibars)</th>\n",
       "      <th>Daily Summary</th>\n",
       "    </tr>\n",
       "  </thead>\n",
       "  <tbody>\n",
       "    <tr>\n",
       "      <th>96448</th>\n",
       "      <td>2016-09-09 19:00:00.000 +0200</td>\n",
       "      <td>Partly Cloudy</td>\n",
       "      <td>rain</td>\n",
       "      <td>26.016667</td>\n",
       "      <td>26.016667</td>\n",
       "      <td>0.43</td>\n",
       "      <td>10.9963</td>\n",
       "      <td>31.0</td>\n",
       "      <td>16.1000</td>\n",
       "      <td>0.0</td>\n",
       "      <td>1014.36</td>\n",
       "      <td>Partly cloudy starting in the morning.</td>\n",
       "    </tr>\n",
       "    <tr>\n",
       "      <th>96449</th>\n",
       "      <td>2016-09-09 20:00:00.000 +0200</td>\n",
       "      <td>Partly Cloudy</td>\n",
       "      <td>rain</td>\n",
       "      <td>24.583333</td>\n",
       "      <td>24.583333</td>\n",
       "      <td>0.48</td>\n",
       "      <td>10.0947</td>\n",
       "      <td>20.0</td>\n",
       "      <td>15.5526</td>\n",
       "      <td>0.0</td>\n",
       "      <td>1015.16</td>\n",
       "      <td>Partly cloudy starting in the morning.</td>\n",
       "    </tr>\n",
       "    <tr>\n",
       "      <th>96450</th>\n",
       "      <td>2016-09-09 21:00:00.000 +0200</td>\n",
       "      <td>Partly Cloudy</td>\n",
       "      <td>rain</td>\n",
       "      <td>22.038889</td>\n",
       "      <td>22.038889</td>\n",
       "      <td>0.56</td>\n",
       "      <td>8.9838</td>\n",
       "      <td>30.0</td>\n",
       "      <td>16.1000</td>\n",
       "      <td>0.0</td>\n",
       "      <td>1015.66</td>\n",
       "      <td>Partly cloudy starting in the morning.</td>\n",
       "    </tr>\n",
       "    <tr>\n",
       "      <th>96451</th>\n",
       "      <td>2016-09-09 22:00:00.000 +0200</td>\n",
       "      <td>Partly Cloudy</td>\n",
       "      <td>rain</td>\n",
       "      <td>21.522222</td>\n",
       "      <td>21.522222</td>\n",
       "      <td>0.60</td>\n",
       "      <td>10.5294</td>\n",
       "      <td>20.0</td>\n",
       "      <td>16.1000</td>\n",
       "      <td>0.0</td>\n",
       "      <td>1015.95</td>\n",
       "      <td>Partly cloudy starting in the morning.</td>\n",
       "    </tr>\n",
       "    <tr>\n",
       "      <th>96452</th>\n",
       "      <td>2016-09-09 23:00:00.000 +0200</td>\n",
       "      <td>Partly Cloudy</td>\n",
       "      <td>rain</td>\n",
       "      <td>20.438889</td>\n",
       "      <td>20.438889</td>\n",
       "      <td>0.61</td>\n",
       "      <td>5.8765</td>\n",
       "      <td>39.0</td>\n",
       "      <td>15.5204</td>\n",
       "      <td>0.0</td>\n",
       "      <td>1016.16</td>\n",
       "      <td>Partly cloudy starting in the morning.</td>\n",
       "    </tr>\n",
       "  </tbody>\n",
       "</table>\n",
       "</div>"
      ],
      "text/plain": [
       "                      Formatted Date        Summary Precip Type  \\\n",
       "96448  2016-09-09 19:00:00.000 +0200  Partly Cloudy        rain   \n",
       "96449  2016-09-09 20:00:00.000 +0200  Partly Cloudy        rain   \n",
       "96450  2016-09-09 21:00:00.000 +0200  Partly Cloudy        rain   \n",
       "96451  2016-09-09 22:00:00.000 +0200  Partly Cloudy        rain   \n",
       "96452  2016-09-09 23:00:00.000 +0200  Partly Cloudy        rain   \n",
       "\n",
       "       Temperature (C)  Apparent Temperature (C)  Humidity  Wind Speed (km/h)  \\\n",
       "96448        26.016667                 26.016667      0.43            10.9963   \n",
       "96449        24.583333                 24.583333      0.48            10.0947   \n",
       "96450        22.038889                 22.038889      0.56             8.9838   \n",
       "96451        21.522222                 21.522222      0.60            10.5294   \n",
       "96452        20.438889                 20.438889      0.61             5.8765   \n",
       "\n",
       "       Wind Bearing (degrees)  Visibility (km)  Loud Cover  \\\n",
       "96448                    31.0          16.1000         0.0   \n",
       "96449                    20.0          15.5526         0.0   \n",
       "96450                    30.0          16.1000         0.0   \n",
       "96451                    20.0          16.1000         0.0   \n",
       "96452                    39.0          15.5204         0.0   \n",
       "\n",
       "       Pressure (millibars)                           Daily Summary  \n",
       "96448               1014.36  Partly cloudy starting in the morning.  \n",
       "96449               1015.16  Partly cloudy starting in the morning.  \n",
       "96450               1015.66  Partly cloudy starting in the morning.  \n",
       "96451               1015.95  Partly cloudy starting in the morning.  \n",
       "96452               1016.16  Partly cloudy starting in the morning.  "
      ]
     },
     "execution_count": 425,
     "metadata": {},
     "output_type": "execute_result"
    }
   ],
   "source": [
    "# display sthe last five records from the data set\n",
    "data.tail()"
   ]
  },
  {
   "cell_type": "code",
   "execution_count": 426,
   "metadata": {},
   "outputs": [
    {
     "name": "stdout",
     "output_type": "stream",
     "text": [
      "<class 'pandas.core.frame.DataFrame'>\n",
      "RangeIndex: 96453 entries, 0 to 96452\n",
      "Data columns (total 12 columns):\n",
      "Formatted Date              96453 non-null object\n",
      "Summary                     96453 non-null object\n",
      "Precip Type                 95936 non-null object\n",
      "Temperature (C)             96453 non-null float64\n",
      "Apparent Temperature (C)    96453 non-null float64\n",
      "Humidity                    96453 non-null float64\n",
      "Wind Speed (km/h)           96453 non-null float64\n",
      "Wind Bearing (degrees)      96453 non-null float64\n",
      "Visibility (km)             96453 non-null float64\n",
      "Loud Cover                  96453 non-null float64\n",
      "Pressure (millibars)        96453 non-null float64\n",
      "Daily Summary               96453 non-null object\n",
      "dtypes: float64(8), object(4)\n",
      "memory usage: 8.8+ MB\n"
     ]
    }
   ],
   "source": [
    "# gives us the data type of each column, null or not null in the dataset\n",
    "data.info()"
   ]
  },
  {
   "cell_type": "code",
   "execution_count": 427,
   "metadata": {},
   "outputs": [
    {
     "data": {
      "text/plain": [
       "(96453, 12)"
      ]
     },
     "execution_count": 427,
     "metadata": {},
     "output_type": "execute_result"
    }
   ],
   "source": [
    "# to describe the total number of entries and total number of columns\n",
    "data.shape"
   ]
  },
  {
   "cell_type": "code",
   "execution_count": 428,
   "metadata": {},
   "outputs": [
    {
     "name": "stdout",
     "output_type": "stream",
     "text": [
      "Precip Type\n"
     ]
    }
   ],
   "source": [
    "#check for missing data, and output columns that have missing data\n",
    "for col in data:\n",
    "    if (data[col].isnull().any()):\n",
    "        print(col)"
   ]
  },
  {
   "cell_type": "code",
   "execution_count": 429,
   "metadata": {},
   "outputs": [
    {
     "data": {
      "text/plain": [
       "Formatted Date              False\n",
       "Summary                     False\n",
       "Precip Type                  True\n",
       "Temperature (C)             False\n",
       "Apparent Temperature (C)    False\n",
       "Humidity                    False\n",
       "Wind Speed (km/h)           False\n",
       "Wind Bearing (degrees)      False\n",
       "Visibility (km)             False\n",
       "Loud Cover                  False\n",
       "Pressure (millibars)        False\n",
       "Daily Summary               False\n",
       "dtype: bool"
      ]
     },
     "execution_count": 429,
     "metadata": {},
     "output_type": "execute_result"
    }
   ],
   "source": [
    "# Checking for null values and returning boolean value\n",
    "data.isnull().any()"
   ]
  },
  {
   "cell_type": "code",
   "execution_count": 430,
   "metadata": {},
   "outputs": [],
   "source": [
    "# to drop the null values\n",
    "data = data.dropna()"
   ]
  },
  {
   "cell_type": "code",
   "execution_count": 431,
   "metadata": {},
   "outputs": [
    {
     "data": {
      "text/plain": [
       "Formatted Date              False\n",
       "Summary                     False\n",
       "Precip Type                 False\n",
       "Temperature (C)             False\n",
       "Apparent Temperature (C)    False\n",
       "Humidity                    False\n",
       "Wind Speed (km/h)           False\n",
       "Wind Bearing (degrees)      False\n",
       "Visibility (km)             False\n",
       "Loud Cover                  False\n",
       "Pressure (millibars)        False\n",
       "Daily Summary               False\n",
       "dtype: bool"
      ]
     },
     "execution_count": 431,
     "metadata": {},
     "output_type": "execute_result"
    }
   ],
   "source": [
    "#cross checking for null values\n",
    "data.isnull().any()"
   ]
  },
  {
   "cell_type": "code",
   "execution_count": 432,
   "metadata": {},
   "outputs": [
    {
     "data": {
      "text/html": [
       "<div>\n",
       "<style scoped>\n",
       "    .dataframe tbody tr th:only-of-type {\n",
       "        vertical-align: middle;\n",
       "    }\n",
       "\n",
       "    .dataframe tbody tr th {\n",
       "        vertical-align: top;\n",
       "    }\n",
       "\n",
       "    .dataframe thead th {\n",
       "        text-align: right;\n",
       "    }\n",
       "</style>\n",
       "<table border=\"1\" class=\"dataframe\">\n",
       "  <thead>\n",
       "    <tr style=\"text-align: right;\">\n",
       "      <th></th>\n",
       "      <th>Temperature (C)</th>\n",
       "      <th>Apparent Temperature (C)</th>\n",
       "      <th>Humidity</th>\n",
       "      <th>Wind Speed (km/h)</th>\n",
       "      <th>Wind Bearing (degrees)</th>\n",
       "      <th>Visibility (km)</th>\n",
       "      <th>Loud Cover</th>\n",
       "      <th>Pressure (millibars)</th>\n",
       "    </tr>\n",
       "  </thead>\n",
       "  <tbody>\n",
       "    <tr>\n",
       "      <th>count</th>\n",
       "      <td>95936.000000</td>\n",
       "      <td>95936.000000</td>\n",
       "      <td>95936.000000</td>\n",
       "      <td>95936.000000</td>\n",
       "      <td>95936.000000</td>\n",
       "      <td>95936.000000</td>\n",
       "      <td>95936.0</td>\n",
       "      <td>95936.000000</td>\n",
       "    </tr>\n",
       "    <tr>\n",
       "      <th>mean</th>\n",
       "      <td>11.940976</td>\n",
       "      <td>10.862531</td>\n",
       "      <td>0.734841</td>\n",
       "      <td>10.804936</td>\n",
       "      <td>187.518773</td>\n",
       "      <td>10.362402</td>\n",
       "      <td>0.0</td>\n",
       "      <td>1003.150038</td>\n",
       "    </tr>\n",
       "    <tr>\n",
       "      <th>std</th>\n",
       "      <td>9.570671</td>\n",
       "      <td>10.717812</td>\n",
       "      <td>0.195724</td>\n",
       "      <td>6.920727</td>\n",
       "      <td>107.385351</td>\n",
       "      <td>4.173780</td>\n",
       "      <td>0.0</td>\n",
       "      <td>117.276976</td>\n",
       "    </tr>\n",
       "    <tr>\n",
       "      <th>min</th>\n",
       "      <td>-21.822222</td>\n",
       "      <td>-27.716667</td>\n",
       "      <td>0.000000</td>\n",
       "      <td>0.000000</td>\n",
       "      <td>0.000000</td>\n",
       "      <td>0.000000</td>\n",
       "      <td>0.0</td>\n",
       "      <td>0.000000</td>\n",
       "    </tr>\n",
       "    <tr>\n",
       "      <th>25%</th>\n",
       "      <td>4.604167</td>\n",
       "      <td>2.276389</td>\n",
       "      <td>0.600000</td>\n",
       "      <td>5.796000</td>\n",
       "      <td>116.000000</td>\n",
       "      <td>8.372000</td>\n",
       "      <td>0.0</td>\n",
       "      <td>1011.890000</td>\n",
       "    </tr>\n",
       "    <tr>\n",
       "      <th>50%</th>\n",
       "      <td>12.033333</td>\n",
       "      <td>12.033333</td>\n",
       "      <td>0.780000</td>\n",
       "      <td>9.933700</td>\n",
       "      <td>180.000000</td>\n",
       "      <td>10.046400</td>\n",
       "      <td>0.0</td>\n",
       "      <td>1016.420000</td>\n",
       "    </tr>\n",
       "    <tr>\n",
       "      <th>75%</th>\n",
       "      <td>18.844444</td>\n",
       "      <td>18.844444</td>\n",
       "      <td>0.890000</td>\n",
       "      <td>14.135800</td>\n",
       "      <td>290.000000</td>\n",
       "      <td>14.812000</td>\n",
       "      <td>0.0</td>\n",
       "      <td>1021.050000</td>\n",
       "    </tr>\n",
       "    <tr>\n",
       "      <th>max</th>\n",
       "      <td>39.905556</td>\n",
       "      <td>39.344444</td>\n",
       "      <td>1.000000</td>\n",
       "      <td>63.852600</td>\n",
       "      <td>359.000000</td>\n",
       "      <td>16.100000</td>\n",
       "      <td>0.0</td>\n",
       "      <td>1046.380000</td>\n",
       "    </tr>\n",
       "  </tbody>\n",
       "</table>\n",
       "</div>"
      ],
      "text/plain": [
       "       Temperature (C)  Apparent Temperature (C)      Humidity  \\\n",
       "count     95936.000000              95936.000000  95936.000000   \n",
       "mean         11.940976                 10.862531      0.734841   \n",
       "std           9.570671                 10.717812      0.195724   \n",
       "min         -21.822222                -27.716667      0.000000   \n",
       "25%           4.604167                  2.276389      0.600000   \n",
       "50%          12.033333                 12.033333      0.780000   \n",
       "75%          18.844444                 18.844444      0.890000   \n",
       "max          39.905556                 39.344444      1.000000   \n",
       "\n",
       "       Wind Speed (km/h)  Wind Bearing (degrees)  Visibility (km)  Loud Cover  \\\n",
       "count       95936.000000            95936.000000     95936.000000     95936.0   \n",
       "mean           10.804936              187.518773        10.362402         0.0   \n",
       "std             6.920727              107.385351         4.173780         0.0   \n",
       "min             0.000000                0.000000         0.000000         0.0   \n",
       "25%             5.796000              116.000000         8.372000         0.0   \n",
       "50%             9.933700              180.000000        10.046400         0.0   \n",
       "75%            14.135800              290.000000        14.812000         0.0   \n",
       "max            63.852600              359.000000        16.100000         0.0   \n",
       "\n",
       "       Pressure (millibars)  \n",
       "count          95936.000000  \n",
       "mean            1003.150038  \n",
       "std              117.276976  \n",
       "min                0.000000  \n",
       "25%             1011.890000  \n",
       "50%             1016.420000  \n",
       "75%             1021.050000  \n",
       "max             1046.380000  "
      ]
     },
     "execution_count": 432,
     "metadata": {},
     "output_type": "execute_result"
    }
   ],
   "source": [
    "#summary stats on each of the numeric columns\n",
    "data.describe()"
   ]
  },
  {
   "cell_type": "code",
   "execution_count": 433,
   "metadata": {},
   "outputs": [
    {
     "data": {
      "text/html": [
       "<div>\n",
       "<style scoped>\n",
       "    .dataframe tbody tr th:only-of-type {\n",
       "        vertical-align: middle;\n",
       "    }\n",
       "\n",
       "    .dataframe tbody tr th {\n",
       "        vertical-align: top;\n",
       "    }\n",
       "\n",
       "    .dataframe thead th {\n",
       "        text-align: right;\n",
       "    }\n",
       "</style>\n",
       "<table border=\"1\" class=\"dataframe\">\n",
       "  <thead>\n",
       "    <tr style=\"text-align: right;\">\n",
       "      <th></th>\n",
       "      <th>Formatted Date</th>\n",
       "      <th>Summary</th>\n",
       "      <th>Precip Type</th>\n",
       "      <th>Temperature (C)</th>\n",
       "      <th>Apparent Temperature (C)</th>\n",
       "      <th>Humidity</th>\n",
       "      <th>Wind Speed (km/h)</th>\n",
       "      <th>Wind Bearing (degrees)</th>\n",
       "      <th>Visibility (km)</th>\n",
       "      <th>Loud Cover</th>\n",
       "      <th>Pressure (millibars)</th>\n",
       "      <th>Daily Summary</th>\n",
       "    </tr>\n",
       "  </thead>\n",
       "  <tbody>\n",
       "    <tr>\n",
       "      <th>count</th>\n",
       "      <td>95936</td>\n",
       "      <td>95936</td>\n",
       "      <td>95936</td>\n",
       "      <td>95936.000000</td>\n",
       "      <td>95936.000000</td>\n",
       "      <td>95936.000000</td>\n",
       "      <td>95936.000000</td>\n",
       "      <td>95936.000000</td>\n",
       "      <td>95936.000000</td>\n",
       "      <td>95936.0</td>\n",
       "      <td>95936.000000</td>\n",
       "      <td>95936</td>\n",
       "    </tr>\n",
       "    <tr>\n",
       "      <th>unique</th>\n",
       "      <td>95912</td>\n",
       "      <td>27</td>\n",
       "      <td>2</td>\n",
       "      <td>NaN</td>\n",
       "      <td>NaN</td>\n",
       "      <td>NaN</td>\n",
       "      <td>NaN</td>\n",
       "      <td>NaN</td>\n",
       "      <td>NaN</td>\n",
       "      <td>NaN</td>\n",
       "      <td>NaN</td>\n",
       "      <td>214</td>\n",
       "    </tr>\n",
       "    <tr>\n",
       "      <th>top</th>\n",
       "      <td>2010-08-02 17:00:00.000 +0200</td>\n",
       "      <td>Partly Cloudy</td>\n",
       "      <td>rain</td>\n",
       "      <td>NaN</td>\n",
       "      <td>NaN</td>\n",
       "      <td>NaN</td>\n",
       "      <td>NaN</td>\n",
       "      <td>NaN</td>\n",
       "      <td>NaN</td>\n",
       "      <td>NaN</td>\n",
       "      <td>NaN</td>\n",
       "      <td>Mostly cloudy throughout the day.</td>\n",
       "    </tr>\n",
       "    <tr>\n",
       "      <th>freq</th>\n",
       "      <td>2</td>\n",
       "      <td>31635</td>\n",
       "      <td>85224</td>\n",
       "      <td>NaN</td>\n",
       "      <td>NaN</td>\n",
       "      <td>NaN</td>\n",
       "      <td>NaN</td>\n",
       "      <td>NaN</td>\n",
       "      <td>NaN</td>\n",
       "      <td>NaN</td>\n",
       "      <td>NaN</td>\n",
       "      <td>20020</td>\n",
       "    </tr>\n",
       "    <tr>\n",
       "      <th>mean</th>\n",
       "      <td>NaN</td>\n",
       "      <td>NaN</td>\n",
       "      <td>NaN</td>\n",
       "      <td>11.940976</td>\n",
       "      <td>10.862531</td>\n",
       "      <td>0.734841</td>\n",
       "      <td>10.804936</td>\n",
       "      <td>187.518773</td>\n",
       "      <td>10.362402</td>\n",
       "      <td>0.0</td>\n",
       "      <td>1003.150038</td>\n",
       "      <td>NaN</td>\n",
       "    </tr>\n",
       "    <tr>\n",
       "      <th>std</th>\n",
       "      <td>NaN</td>\n",
       "      <td>NaN</td>\n",
       "      <td>NaN</td>\n",
       "      <td>9.570671</td>\n",
       "      <td>10.717812</td>\n",
       "      <td>0.195724</td>\n",
       "      <td>6.920727</td>\n",
       "      <td>107.385351</td>\n",
       "      <td>4.173780</td>\n",
       "      <td>0.0</td>\n",
       "      <td>117.276976</td>\n",
       "      <td>NaN</td>\n",
       "    </tr>\n",
       "    <tr>\n",
       "      <th>min</th>\n",
       "      <td>NaN</td>\n",
       "      <td>NaN</td>\n",
       "      <td>NaN</td>\n",
       "      <td>-21.822222</td>\n",
       "      <td>-27.716667</td>\n",
       "      <td>0.000000</td>\n",
       "      <td>0.000000</td>\n",
       "      <td>0.000000</td>\n",
       "      <td>0.000000</td>\n",
       "      <td>0.0</td>\n",
       "      <td>0.000000</td>\n",
       "      <td>NaN</td>\n",
       "    </tr>\n",
       "    <tr>\n",
       "      <th>25%</th>\n",
       "      <td>NaN</td>\n",
       "      <td>NaN</td>\n",
       "      <td>NaN</td>\n",
       "      <td>4.604167</td>\n",
       "      <td>2.276389</td>\n",
       "      <td>0.600000</td>\n",
       "      <td>5.796000</td>\n",
       "      <td>116.000000</td>\n",
       "      <td>8.372000</td>\n",
       "      <td>0.0</td>\n",
       "      <td>1011.890000</td>\n",
       "      <td>NaN</td>\n",
       "    </tr>\n",
       "    <tr>\n",
       "      <th>50%</th>\n",
       "      <td>NaN</td>\n",
       "      <td>NaN</td>\n",
       "      <td>NaN</td>\n",
       "      <td>12.033333</td>\n",
       "      <td>12.033333</td>\n",
       "      <td>0.780000</td>\n",
       "      <td>9.933700</td>\n",
       "      <td>180.000000</td>\n",
       "      <td>10.046400</td>\n",
       "      <td>0.0</td>\n",
       "      <td>1016.420000</td>\n",
       "      <td>NaN</td>\n",
       "    </tr>\n",
       "    <tr>\n",
       "      <th>75%</th>\n",
       "      <td>NaN</td>\n",
       "      <td>NaN</td>\n",
       "      <td>NaN</td>\n",
       "      <td>18.844444</td>\n",
       "      <td>18.844444</td>\n",
       "      <td>0.890000</td>\n",
       "      <td>14.135800</td>\n",
       "      <td>290.000000</td>\n",
       "      <td>14.812000</td>\n",
       "      <td>0.0</td>\n",
       "      <td>1021.050000</td>\n",
       "      <td>NaN</td>\n",
       "    </tr>\n",
       "    <tr>\n",
       "      <th>max</th>\n",
       "      <td>NaN</td>\n",
       "      <td>NaN</td>\n",
       "      <td>NaN</td>\n",
       "      <td>39.905556</td>\n",
       "      <td>39.344444</td>\n",
       "      <td>1.000000</td>\n",
       "      <td>63.852600</td>\n",
       "      <td>359.000000</td>\n",
       "      <td>16.100000</td>\n",
       "      <td>0.0</td>\n",
       "      <td>1046.380000</td>\n",
       "      <td>NaN</td>\n",
       "    </tr>\n",
       "  </tbody>\n",
       "</table>\n",
       "</div>"
      ],
      "text/plain": [
       "                       Formatted Date        Summary Precip Type  \\\n",
       "count                           95936          95936       95936   \n",
       "unique                          95912             27           2   \n",
       "top     2010-08-02 17:00:00.000 +0200  Partly Cloudy        rain   \n",
       "freq                                2          31635       85224   \n",
       "mean                              NaN            NaN         NaN   \n",
       "std                               NaN            NaN         NaN   \n",
       "min                               NaN            NaN         NaN   \n",
       "25%                               NaN            NaN         NaN   \n",
       "50%                               NaN            NaN         NaN   \n",
       "75%                               NaN            NaN         NaN   \n",
       "max                               NaN            NaN         NaN   \n",
       "\n",
       "        Temperature (C)  Apparent Temperature (C)      Humidity  \\\n",
       "count      95936.000000              95936.000000  95936.000000   \n",
       "unique              NaN                       NaN           NaN   \n",
       "top                 NaN                       NaN           NaN   \n",
       "freq                NaN                       NaN           NaN   \n",
       "mean          11.940976                 10.862531      0.734841   \n",
       "std            9.570671                 10.717812      0.195724   \n",
       "min          -21.822222                -27.716667      0.000000   \n",
       "25%            4.604167                  2.276389      0.600000   \n",
       "50%           12.033333                 12.033333      0.780000   \n",
       "75%           18.844444                 18.844444      0.890000   \n",
       "max           39.905556                 39.344444      1.000000   \n",
       "\n",
       "        Wind Speed (km/h)  Wind Bearing (degrees)  Visibility (km)  \\\n",
       "count        95936.000000            95936.000000     95936.000000   \n",
       "unique                NaN                     NaN              NaN   \n",
       "top                   NaN                     NaN              NaN   \n",
       "freq                  NaN                     NaN              NaN   \n",
       "mean            10.804936              187.518773        10.362402   \n",
       "std              6.920727              107.385351         4.173780   \n",
       "min              0.000000                0.000000         0.000000   \n",
       "25%              5.796000              116.000000         8.372000   \n",
       "50%              9.933700              180.000000        10.046400   \n",
       "75%             14.135800              290.000000        14.812000   \n",
       "max             63.852600              359.000000        16.100000   \n",
       "\n",
       "        Loud Cover  Pressure (millibars)                      Daily Summary  \n",
       "count      95936.0          95936.000000                              95936  \n",
       "unique         NaN                   NaN                                214  \n",
       "top            NaN                   NaN  Mostly cloudy throughout the day.  \n",
       "freq           NaN                   NaN                              20020  \n",
       "mean           0.0           1003.150038                                NaN  \n",
       "std            0.0            117.276976                                NaN  \n",
       "min            0.0              0.000000                                NaN  \n",
       "25%            0.0           1011.890000                                NaN  \n",
       "50%            0.0           1016.420000                                NaN  \n",
       "75%            0.0           1021.050000                                NaN  \n",
       "max            0.0           1046.380000                                NaN  "
      ]
     },
     "execution_count": 433,
     "metadata": {},
     "output_type": "execute_result"
    }
   ],
   "source": [
    "#check all the statistics\n",
    "data.describe(include='all')"
   ]
  },
  {
   "cell_type": "code",
   "execution_count": 434,
   "metadata": {
    "scrolled": true
   },
   "outputs": [
    {
     "data": {
      "text/html": [
       "<div>\n",
       "<style scoped>\n",
       "    .dataframe tbody tr th:only-of-type {\n",
       "        vertical-align: middle;\n",
       "    }\n",
       "\n",
       "    .dataframe tbody tr th {\n",
       "        vertical-align: top;\n",
       "    }\n",
       "\n",
       "    .dataframe thead th {\n",
       "        text-align: right;\n",
       "    }\n",
       "</style>\n",
       "<table border=\"1\" class=\"dataframe\">\n",
       "  <thead>\n",
       "    <tr style=\"text-align: right;\">\n",
       "      <th></th>\n",
       "      <th>Formatted Date</th>\n",
       "      <th>Summary</th>\n",
       "      <th>Precip Type</th>\n",
       "      <th>Daily Summary</th>\n",
       "    </tr>\n",
       "  </thead>\n",
       "  <tbody>\n",
       "    <tr>\n",
       "      <th>count</th>\n",
       "      <td>95936</td>\n",
       "      <td>95936</td>\n",
       "      <td>95936</td>\n",
       "      <td>95936</td>\n",
       "    </tr>\n",
       "    <tr>\n",
       "      <th>unique</th>\n",
       "      <td>95912</td>\n",
       "      <td>27</td>\n",
       "      <td>2</td>\n",
       "      <td>214</td>\n",
       "    </tr>\n",
       "    <tr>\n",
       "      <th>top</th>\n",
       "      <td>2010-08-02 17:00:00.000 +0200</td>\n",
       "      <td>Partly Cloudy</td>\n",
       "      <td>rain</td>\n",
       "      <td>Mostly cloudy throughout the day.</td>\n",
       "    </tr>\n",
       "    <tr>\n",
       "      <th>freq</th>\n",
       "      <td>2</td>\n",
       "      <td>31635</td>\n",
       "      <td>85224</td>\n",
       "      <td>20020</td>\n",
       "    </tr>\n",
       "  </tbody>\n",
       "</table>\n",
       "</div>"
      ],
      "text/plain": [
       "                       Formatted Date        Summary Precip Type  \\\n",
       "count                           95936          95936       95936   \n",
       "unique                          95912             27           2   \n",
       "top     2010-08-02 17:00:00.000 +0200  Partly Cloudy        rain   \n",
       "freq                                2          31635       85224   \n",
       "\n",
       "                            Daily Summary  \n",
       "count                               95936  \n",
       "unique                                214  \n",
       "top     Mostly cloudy throughout the day.  \n",
       "freq                                20020  "
      ]
     },
     "execution_count": 434,
     "metadata": {},
     "output_type": "execute_result"
    }
   ],
   "source": [
    "#check categorical data\n",
    "data.describe(include=['O'])"
   ]
  },
  {
   "cell_type": "code",
   "execution_count": 435,
   "metadata": {},
   "outputs": [],
   "source": [
    "#dropping this column as it is of no use in this complete analysis\n",
    "data = data.drop('Loud Cover',axis = 1)"
   ]
  },
  {
   "cell_type": "code",
   "execution_count": 436,
   "metadata": {},
   "outputs": [
    {
     "data": {
      "text/plain": [
       "Index(['Formatted Date', 'Summary', 'Precip Type', 'Temperature (C)',\n",
       "       'Apparent Temperature (C)', 'Humidity', 'Wind Speed (km/h)',\n",
       "       'Wind Bearing (degrees)', 'Visibility (km)', 'Pressure (millibars)',\n",
       "       'Daily Summary'],\n",
       "      dtype='object')"
      ]
     },
     "execution_count": 436,
     "metadata": {},
     "output_type": "execute_result"
    }
   ],
   "source": [
    "#check columns\n",
    "data.columns"
   ]
  },
  {
   "cell_type": "code",
   "execution_count": 437,
   "metadata": {},
   "outputs": [
    {
     "data": {
      "text/html": [
       "<div>\n",
       "<style scoped>\n",
       "    .dataframe tbody tr th:only-of-type {\n",
       "        vertical-align: middle;\n",
       "    }\n",
       "\n",
       "    .dataframe tbody tr th {\n",
       "        vertical-align: top;\n",
       "    }\n",
       "\n",
       "    .dataframe thead th {\n",
       "        text-align: right;\n",
       "    }\n",
       "</style>\n",
       "<table border=\"1\" class=\"dataframe\">\n",
       "  <thead>\n",
       "    <tr style=\"text-align: right;\">\n",
       "      <th></th>\n",
       "      <th>Formatted Date</th>\n",
       "      <th>Summary</th>\n",
       "      <th>Precip Type</th>\n",
       "      <th>Temperature (C)</th>\n",
       "      <th>Apparent Temperature (C)</th>\n",
       "      <th>Humidity</th>\n",
       "      <th>Wind Speed (km/h)</th>\n",
       "      <th>Wind Bearing (degrees)</th>\n",
       "      <th>Visibility (km)</th>\n",
       "      <th>Pressure (millibars)</th>\n",
       "      <th>Daily Summary</th>\n",
       "    </tr>\n",
       "  </thead>\n",
       "  <tbody>\n",
       "    <tr>\n",
       "      <th>0</th>\n",
       "      <td>2006-04-01 00:00:00.000 +0200</td>\n",
       "      <td>Partly Cloudy</td>\n",
       "      <td>rain</td>\n",
       "      <td>9.472222</td>\n",
       "      <td>7.388889</td>\n",
       "      <td>0.89</td>\n",
       "      <td>14.1197</td>\n",
       "      <td>251.0</td>\n",
       "      <td>15.8263</td>\n",
       "      <td>1015.13</td>\n",
       "      <td>Partly cloudy throughout the day.</td>\n",
       "    </tr>\n",
       "    <tr>\n",
       "      <th>1</th>\n",
       "      <td>2006-04-01 01:00:00.000 +0200</td>\n",
       "      <td>Partly Cloudy</td>\n",
       "      <td>rain</td>\n",
       "      <td>9.355556</td>\n",
       "      <td>7.227778</td>\n",
       "      <td>0.86</td>\n",
       "      <td>14.2646</td>\n",
       "      <td>259.0</td>\n",
       "      <td>15.8263</td>\n",
       "      <td>1015.63</td>\n",
       "      <td>Partly cloudy throughout the day.</td>\n",
       "    </tr>\n",
       "    <tr>\n",
       "      <th>2</th>\n",
       "      <td>2006-04-01 02:00:00.000 +0200</td>\n",
       "      <td>Mostly Cloudy</td>\n",
       "      <td>rain</td>\n",
       "      <td>9.377778</td>\n",
       "      <td>9.377778</td>\n",
       "      <td>0.89</td>\n",
       "      <td>3.9284</td>\n",
       "      <td>204.0</td>\n",
       "      <td>14.9569</td>\n",
       "      <td>1015.94</td>\n",
       "      <td>Partly cloudy throughout the day.</td>\n",
       "    </tr>\n",
       "    <tr>\n",
       "      <th>3</th>\n",
       "      <td>2006-04-01 03:00:00.000 +0200</td>\n",
       "      <td>Partly Cloudy</td>\n",
       "      <td>rain</td>\n",
       "      <td>8.288889</td>\n",
       "      <td>5.944444</td>\n",
       "      <td>0.83</td>\n",
       "      <td>14.1036</td>\n",
       "      <td>269.0</td>\n",
       "      <td>15.8263</td>\n",
       "      <td>1016.41</td>\n",
       "      <td>Partly cloudy throughout the day.</td>\n",
       "    </tr>\n",
       "    <tr>\n",
       "      <th>4</th>\n",
       "      <td>2006-04-01 04:00:00.000 +0200</td>\n",
       "      <td>Mostly Cloudy</td>\n",
       "      <td>rain</td>\n",
       "      <td>8.755556</td>\n",
       "      <td>6.977778</td>\n",
       "      <td>0.83</td>\n",
       "      <td>11.0446</td>\n",
       "      <td>259.0</td>\n",
       "      <td>15.8263</td>\n",
       "      <td>1016.51</td>\n",
       "      <td>Partly cloudy throughout the day.</td>\n",
       "    </tr>\n",
       "  </tbody>\n",
       "</table>\n",
       "</div>"
      ],
      "text/plain": [
       "                  Formatted Date        Summary Precip Type  Temperature (C)  \\\n",
       "0  2006-04-01 00:00:00.000 +0200  Partly Cloudy        rain         9.472222   \n",
       "1  2006-04-01 01:00:00.000 +0200  Partly Cloudy        rain         9.355556   \n",
       "2  2006-04-01 02:00:00.000 +0200  Mostly Cloudy        rain         9.377778   \n",
       "3  2006-04-01 03:00:00.000 +0200  Partly Cloudy        rain         8.288889   \n",
       "4  2006-04-01 04:00:00.000 +0200  Mostly Cloudy        rain         8.755556   \n",
       "\n",
       "   Apparent Temperature (C)  Humidity  Wind Speed (km/h)  \\\n",
       "0                  7.388889      0.89            14.1197   \n",
       "1                  7.227778      0.86            14.2646   \n",
       "2                  9.377778      0.89             3.9284   \n",
       "3                  5.944444      0.83            14.1036   \n",
       "4                  6.977778      0.83            11.0446   \n",
       "\n",
       "   Wind Bearing (degrees)  Visibility (km)  Pressure (millibars)  \\\n",
       "0                   251.0          15.8263               1015.13   \n",
       "1                   259.0          15.8263               1015.63   \n",
       "2                   204.0          14.9569               1015.94   \n",
       "3                   269.0          15.8263               1016.41   \n",
       "4                   259.0          15.8263               1016.51   \n",
       "\n",
       "                       Daily Summary  \n",
       "0  Partly cloudy throughout the day.  \n",
       "1  Partly cloudy throughout the day.  \n",
       "2  Partly cloudy throughout the day.  \n",
       "3  Partly cloudy throughout the day.  \n",
       "4  Partly cloudy throughout the day.  "
      ]
     },
     "execution_count": 437,
     "metadata": {},
     "output_type": "execute_result"
    }
   ],
   "source": [
    "data.head()"
   ]
  },
  {
   "cell_type": "markdown",
   "metadata": {},
   "source": [
    "# Handling categorical values"
   ]
  },
  {
   "cell_type": "code",
   "execution_count": 438,
   "metadata": {},
   "outputs": [
    {
     "data": {
      "text/plain": [
       "rain    85224\n",
       "snow    10712\n",
       "Name: Precip Type, dtype: int64"
      ]
     },
     "execution_count": 438,
     "metadata": {},
     "output_type": "execute_result"
    }
   ],
   "source": [
    "#checking for categorical values\n",
    "data['Precip Type'].value_counts()"
   ]
  },
  {
   "cell_type": "code",
   "execution_count": 439,
   "metadata": {},
   "outputs": [],
   "source": [
    "#creating dummy values\n",
    "data['Precip Type']=data['Precip Type'].str.replace('Snow','Snowfall', case=False)\n",
    "data['Precip Type']=data['Precip Type'].str.replace('Rain','Rainfall', case=False)"
   ]
  },
  {
   "cell_type": "code",
   "execution_count": 440,
   "metadata": {},
   "outputs": [],
   "source": [
    "#dropping previous values\n",
    "data=pd.get_dummies(data,columns=['Precip Type'], drop_first= True)"
   ]
  },
  {
   "cell_type": "code",
   "execution_count": 441,
   "metadata": {
    "scrolled": true
   },
   "outputs": [
    {
     "data": {
      "text/plain": [
       "Index(['Formatted Date', 'Summary', 'Temperature (C)',\n",
       "       'Apparent Temperature (C)', 'Humidity', 'Wind Speed (km/h)',\n",
       "       'Wind Bearing (degrees)', 'Visibility (km)', 'Pressure (millibars)',\n",
       "       'Daily Summary', 'Precip Type_Snowfall'],\n",
       "      dtype='object')"
      ]
     },
     "execution_count": 441,
     "metadata": {},
     "output_type": "execute_result"
    }
   ],
   "source": [
    "data.columns"
   ]
  },
  {
   "cell_type": "code",
   "execution_count": 442,
   "metadata": {
    "scrolled": true
   },
   "outputs": [
    {
     "data": {
      "text/plain": [
       "Partly Cloudy                          31635\n",
       "Mostly Cloudy                          27914\n",
       "Overcast                               16516\n",
       "Clear                                  10763\n",
       "Foggy                                   7117\n",
       "Breezy and Overcast                      528\n",
       "Breezy and Mostly Cloudy                 516\n",
       "Breezy and Partly Cloudy                 386\n",
       "Dry and Partly Cloudy                     86\n",
       "Windy and Partly Cloudy                   67\n",
       "Light Rain                                63\n",
       "Breezy                                    54\n",
       "Windy and Overcast                        45\n",
       "Humid and Mostly Cloudy                   40\n",
       "Drizzle                                   39\n",
       "Windy and Mostly Cloudy                   35\n",
       "Breezy and Foggy                          35\n",
       "Dry                                       34\n",
       "Humid and Partly Cloudy                   17\n",
       "Dry and Mostly Cloudy                     14\n",
       "Rain                                      10\n",
       "Windy                                      8\n",
       "Humid and Overcast                         7\n",
       "Windy and Foggy                            4\n",
       "Dangerously Windy and Partly Cloudy        1\n",
       "Windy and Dry                              1\n",
       "Breezy and Dry                             1\n",
       "Name: Summary, dtype: int64"
      ]
     },
     "execution_count": 442,
     "metadata": {},
     "output_type": "execute_result"
    }
   ],
   "source": [
    "#checking the count of values for categorical values\n",
    "data['Summary'].value_counts()"
   ]
  },
  {
   "cell_type": "code",
   "execution_count": 443,
   "metadata": {},
   "outputs": [
    {
     "name": "stdout",
     "output_type": "stream",
     "text": [
      "27\n"
     ]
    }
   ],
   "source": [
    "# to check count of the distinct categories within the feature \n",
    "print(data['Summary'].value_counts().count())"
   ]
  },
  {
   "cell_type": "code",
   "execution_count": 444,
   "metadata": {},
   "outputs": [
    {
     "data": {
      "image/png": "[encoded data removed]",
      "text/plain": [
       "<Figure size 432x288 with 1 Axes>"
      ]
     },
     "metadata": {},
     "output_type": "display_data"
    }
   ],
   "source": [
    "#plotting categorical values using a bar plots\n",
    "carrier_count = data['Summary'].value_counts()\n",
    "sns.set(style=\"darkgrid\")\n",
    "sns.barplot(carrier_count.index, carrier_count.values, alpha=0.9)\n",
    "plt.title('Frequency Distribution')\n",
    "plt.ylabel('Number of Occurrences', fontsize=12)\n",
    "plt.xlabel('Summary', fontsize=12)\n",
    "plt.xticks(rotation=90)\n",
    "plt.show()"
   ]
  },
  {
   "cell_type": "code",
   "execution_count": 445,
   "metadata": {},
   "outputs": [],
   "source": [
    "#handling categorical values groupin it under \"others\" column\n",
    "data[\"Summary\"]=np.where(data[\"Summary\"].isin(['Breezy and Overcast','Breezy and Mostly Cloudy','Breezy and Partly Cloudy','Dry and Partly Cloudy',\n",
    "'Windy and Partly Cloudy','Light Rain','Breezy','Windy and Overcast','Humid and Mostly Cloudy','Drizzle','Breezy and Foggy','Windy and Mostly Cloudy','Dry','Humid and Partly Cloudy','Dry and Mostly Cloudy','Rain','Windy','Humid and Overcast',\n",
    "'Windy and Foggy','Breezy and Dry','Dangerously Windy and Partly Cloudy','Windy and Dry']),\"Others\",data[\"Summary\"])\n",
    "#data[\"Summary\"]=np.where(data[\"Summary\"]=\"Mostly Cloudy\",\"Others\",data[\"Summary\"])\n",
    "#data[\"Summary\"]=np.where(data[\"Summary\"]=\"Overcast\",\"Others\",data[\"Summary\"])\n",
    "#data[\"Summary\"]=np.where(data[\"Summary\"]=\"Clear\",\"Others\",data[\"Summary\"])\n",
    "#data[\"Summary\"]=np.where(data[\"Summary\"]=\"Foggy\",\"Others\",data[\"Summary\"])"
   ]
  },
  {
   "cell_type": "code",
   "execution_count": 446,
   "metadata": {
    "scrolled": true
   },
   "outputs": [
    {
     "data": {
      "text/plain": [
       "Partly Cloudy    31635\n",
       "Mostly Cloudy    27914\n",
       "Overcast         16516\n",
       "Clear            10763\n",
       "Foggy             7117\n",
       "Others            1991\n",
       "Name: Summary, dtype: int64"
      ]
     },
     "execution_count": 446,
     "metadata": {},
     "output_type": "execute_result"
    }
   ],
   "source": [
    "#checking if the values are all grouped under column \"others\"\n",
    "data[\"Summary\"].value_counts()"
   ]
  },
  {
   "cell_type": "code",
   "execution_count": 447,
   "metadata": {},
   "outputs": [],
   "source": [
    "#creating dummies variables and dropping the initial column - Summary\n",
    "data=pd.get_dummies(data,columns=['Summary'], drop_first= True)"
   ]
  },
  {
   "cell_type": "markdown",
   "metadata": {},
   "source": [
    "Dummy variables (also known as an indicator variable, design variable, Boolean indicator, categorical variable, binary variable, or qualitative variable) is one that takes the value 0 or 1 to indicate the absence or presence of some categorical effect that may be expected to shift the outcome"
   ]
  },
  {
   "cell_type": "code",
   "execution_count": 448,
   "metadata": {},
   "outputs": [
    {
     "data": {
      "text/plain": [
       "Index(['Formatted Date', 'Temperature (C)', 'Apparent Temperature (C)',\n",
       "       'Humidity', 'Wind Speed (km/h)', 'Wind Bearing (degrees)',\n",
       "       'Visibility (km)', 'Pressure (millibars)', 'Daily Summary',\n",
       "       'Precip Type_Snowfall', 'Summary_Foggy', 'Summary_Mostly Cloudy',\n",
       "       'Summary_Others', 'Summary_Overcast', 'Summary_Partly Cloudy'],\n",
       "      dtype='object')"
      ]
     },
     "execution_count": 448,
     "metadata": {},
     "output_type": "execute_result"
    }
   ],
   "source": [
    "# cross checking the count of values for categorical values\n",
    "data.columns"
   ]
  },
  {
   "cell_type": "code",
   "execution_count": 449,
   "metadata": {},
   "outputs": [
    {
     "data": {
      "text/html": [
       "<div>\n",
       "<style scoped>\n",
       "    .dataframe tbody tr th:only-of-type {\n",
       "        vertical-align: middle;\n",
       "    }\n",
       "\n",
       "    .dataframe tbody tr th {\n",
       "        vertical-align: top;\n",
       "    }\n",
       "\n",
       "    .dataframe thead th {\n",
       "        text-align: right;\n",
       "    }\n",
       "</style>\n",
       "<table border=\"1\" class=\"dataframe\">\n",
       "  <thead>\n",
       "    <tr style=\"text-align: right;\">\n",
       "      <th></th>\n",
       "      <th>Temperature (C)</th>\n",
       "      <th>Apparent Temperature (C)</th>\n",
       "      <th>Humidity</th>\n",
       "      <th>Wind Speed (km/h)</th>\n",
       "      <th>Wind Bearing (degrees)</th>\n",
       "      <th>Visibility (km)</th>\n",
       "      <th>Pressure (millibars)</th>\n",
       "      <th>Precip Type_Snowfall</th>\n",
       "      <th>Summary_Foggy</th>\n",
       "      <th>Summary_Mostly Cloudy</th>\n",
       "      <th>Summary_Others</th>\n",
       "      <th>Summary_Overcast</th>\n",
       "      <th>Summary_Partly Cloudy</th>\n",
       "    </tr>\n",
       "  </thead>\n",
       "  <tbody>\n",
       "    <tr>\n",
       "      <th>Temperature (C)</th>\n",
       "      <td>1.000000</td>\n",
       "      <td>0.992637</td>\n",
       "      <td>-0.632148</td>\n",
       "      <td>0.008304</td>\n",
       "      <td>0.029937</td>\n",
       "      <td>0.393719</td>\n",
       "      <td>-0.005253</td>\n",
       "      <td>-0.563503</td>\n",
       "      <td>-0.310437</td>\n",
       "      <td>0.046225</td>\n",
       "      <td>-0.009439</td>\n",
       "      <td>-0.211532</td>\n",
       "      <td>0.300242</td>\n",
       "    </tr>\n",
       "    <tr>\n",
       "      <th>Apparent Temperature (C)</th>\n",
       "      <td>0.992637</td>\n",
       "      <td>1.000000</td>\n",
       "      <td>-0.602390</td>\n",
       "      <td>-0.057387</td>\n",
       "      <td>0.028951</td>\n",
       "      <td>0.382589</td>\n",
       "      <td>-0.000037</td>\n",
       "      <td>-0.566058</td>\n",
       "      <td>-0.292961</td>\n",
       "      <td>0.045561</td>\n",
       "      <td>-0.030935</td>\n",
       "      <td>-0.216620</td>\n",
       "      <td>0.297419</td>\n",
       "    </tr>\n",
       "    <tr>\n",
       "      <th>Humidity</th>\n",
       "      <td>-0.632148</td>\n",
       "      <td>-0.602390</td>\n",
       "      <td>1.000000</td>\n",
       "      <td>-0.224569</td>\n",
       "      <td>0.000814</td>\n",
       "      <td>-0.370511</td>\n",
       "      <td>0.005375</td>\n",
       "      <td>0.232622</td>\n",
       "      <td>0.312506</td>\n",
       "      <td>-0.031679</td>\n",
       "      <td>-0.063202</td>\n",
       "      <td>0.239445</td>\n",
       "      <td>-0.309874</td>\n",
       "    </tr>\n",
       "    <tr>\n",
       "      <th>Wind Speed (km/h)</th>\n",
       "      <td>0.008304</td>\n",
       "      <td>-0.057387</td>\n",
       "      <td>-0.224569</td>\n",
       "      <td>1.000000</td>\n",
       "      <td>0.104366</td>\n",
       "      <td>0.100801</td>\n",
       "      <td>-0.049453</td>\n",
       "      <td>-0.067771</td>\n",
       "      <td>-0.148718</td>\n",
       "      <td>0.055248</td>\n",
       "      <td>0.421418</td>\n",
       "      <td>0.080466</td>\n",
       "      <td>-0.070561</td>\n",
       "    </tr>\n",
       "    <tr>\n",
       "      <th>Wind Bearing (degrees)</th>\n",
       "      <td>0.029937</td>\n",
       "      <td>0.028951</td>\n",
       "      <td>0.000814</td>\n",
       "      <td>0.104366</td>\n",
       "      <td>1.000000</td>\n",
       "      <td>0.048900</td>\n",
       "      <td>-0.011629</td>\n",
       "      <td>-0.042142</td>\n",
       "      <td>-0.049201</td>\n",
       "      <td>0.027994</td>\n",
       "      <td>0.054237</td>\n",
       "      <td>-0.016621</td>\n",
       "      <td>0.016422</td>\n",
       "    </tr>\n",
       "    <tr>\n",
       "      <th>Visibility (km)</th>\n",
       "      <td>0.393719</td>\n",
       "      <td>0.382589</td>\n",
       "      <td>-0.370511</td>\n",
       "      <td>0.100801</td>\n",
       "      <td>0.048900</td>\n",
       "      <td>1.000000</td>\n",
       "      <td>0.061011</td>\n",
       "      <td>-0.316483</td>\n",
       "      <td>-0.597414</td>\n",
       "      <td>0.117192</td>\n",
       "      <td>0.010984</td>\n",
       "      <td>-0.119702</td>\n",
       "      <td>0.244970</td>\n",
       "    </tr>\n",
       "    <tr>\n",
       "      <th>Pressure (millibars)</th>\n",
       "      <td>-0.005253</td>\n",
       "      <td>-0.000037</td>\n",
       "      <td>0.005375</td>\n",
       "      <td>-0.049453</td>\n",
       "      <td>-0.011629</td>\n",
       "      <td>0.061011</td>\n",
       "      <td>1.000000</td>\n",
       "      <td>0.009271</td>\n",
       "      <td>0.010288</td>\n",
       "      <td>0.041744</td>\n",
       "      <td>-0.022050</td>\n",
       "      <td>0.009493</td>\n",
       "      <td>0.059333</td>\n",
       "    </tr>\n",
       "    <tr>\n",
       "      <th>Precip Type_Snowfall</th>\n",
       "      <td>-0.563503</td>\n",
       "      <td>-0.566058</td>\n",
       "      <td>0.232622</td>\n",
       "      <td>-0.067771</td>\n",
       "      <td>-0.042142</td>\n",
       "      <td>-0.316483</td>\n",
       "      <td>0.009271</td>\n",
       "      <td>1.000000</td>\n",
       "      <td>0.276235</td>\n",
       "      <td>-0.089686</td>\n",
       "      <td>-0.020967</td>\n",
       "      <td>0.066266</td>\n",
       "      <td>-0.127585</td>\n",
       "    </tr>\n",
       "    <tr>\n",
       "      <th>Summary_Foggy</th>\n",
       "      <td>-0.310437</td>\n",
       "      <td>-0.292961</td>\n",
       "      <td>0.312506</td>\n",
       "      <td>-0.148718</td>\n",
       "      <td>-0.049201</td>\n",
       "      <td>-0.597414</td>\n",
       "      <td>0.010288</td>\n",
       "      <td>0.276235</td>\n",
       "      <td>1.000000</td>\n",
       "      <td>-0.181335</td>\n",
       "      <td>-0.041209</td>\n",
       "      <td>-0.129087</td>\n",
       "      <td>-0.198550</td>\n",
       "    </tr>\n",
       "    <tr>\n",
       "      <th>Summary_Mostly Cloudy</th>\n",
       "      <td>0.046225</td>\n",
       "      <td>0.045561</td>\n",
       "      <td>-0.031679</td>\n",
       "      <td>0.055248</td>\n",
       "      <td>0.027994</td>\n",
       "      <td>0.117192</td>\n",
       "      <td>0.041744</td>\n",
       "      <td>-0.089686</td>\n",
       "      <td>-0.181335</td>\n",
       "      <td>1.000000</td>\n",
       "      <td>-0.093258</td>\n",
       "      <td>-0.292128</td>\n",
       "      <td>-0.449326</td>\n",
       "    </tr>\n",
       "    <tr>\n",
       "      <th>Summary_Others</th>\n",
       "      <td>-0.009439</td>\n",
       "      <td>-0.030935</td>\n",
       "      <td>-0.063202</td>\n",
       "      <td>0.421418</td>\n",
       "      <td>0.054237</td>\n",
       "      <td>0.010984</td>\n",
       "      <td>-0.022050</td>\n",
       "      <td>-0.020967</td>\n",
       "      <td>-0.041209</td>\n",
       "      <td>-0.093258</td>\n",
       "      <td>1.000000</td>\n",
       "      <td>-0.066387</td>\n",
       "      <td>-0.102111</td>\n",
       "    </tr>\n",
       "    <tr>\n",
       "      <th>Summary_Overcast</th>\n",
       "      <td>-0.211532</td>\n",
       "      <td>-0.216620</td>\n",
       "      <td>0.239445</td>\n",
       "      <td>0.080466</td>\n",
       "      <td>-0.016621</td>\n",
       "      <td>-0.119702</td>\n",
       "      <td>0.009493</td>\n",
       "      <td>0.066266</td>\n",
       "      <td>-0.129087</td>\n",
       "      <td>-0.292128</td>\n",
       "      <td>-0.066387</td>\n",
       "      <td>1.000000</td>\n",
       "      <td>-0.319862</td>\n",
       "    </tr>\n",
       "    <tr>\n",
       "      <th>Summary_Partly Cloudy</th>\n",
       "      <td>0.300242</td>\n",
       "      <td>0.297419</td>\n",
       "      <td>-0.309874</td>\n",
       "      <td>-0.070561</td>\n",
       "      <td>0.016422</td>\n",
       "      <td>0.244970</td>\n",
       "      <td>0.059333</td>\n",
       "      <td>-0.127585</td>\n",
       "      <td>-0.198550</td>\n",
       "      <td>-0.449326</td>\n",
       "      <td>-0.102111</td>\n",
       "      <td>-0.319862</td>\n",
       "      <td>1.000000</td>\n",
       "    </tr>\n",
       "  </tbody>\n",
       "</table>\n",
       "</div>"
      ],
      "text/plain": [
       "                          Temperature (C)  Apparent Temperature (C)  Humidity  \\\n",
       "Temperature (C)                  1.000000                  0.992637 -0.632148   \n",
       "Apparent Temperature (C)         0.992637                  1.000000 -0.602390   \n",
       "Humidity                        -0.632148                 -0.602390  1.000000   \n",
       "Wind Speed (km/h)                0.008304                 -0.057387 -0.224569   \n",
       "Wind Bearing (degrees)           0.029937                  0.028951  0.000814   \n",
       "Visibility (km)                  0.393719                  0.382589 -0.370511   \n",
       "Pressure (millibars)            -0.005253                 -0.000037  0.005375   \n",
       "Precip Type_Snowfall            -0.563503                 -0.566058  0.232622   \n",
       "Summary_Foggy                   -0.310437                 -0.292961  0.312506   \n",
       "Summary_Mostly Cloudy            0.046225                  0.045561 -0.031679   \n",
       "Summary_Others                  -0.009439                 -0.030935 -0.063202   \n",
       "Summary_Overcast                -0.211532                 -0.216620  0.239445   \n",
       "Summary_Partly Cloudy            0.300242                  0.297419 -0.309874   \n",
       "\n",
       "                          Wind Speed (km/h)  Wind Bearing (degrees)  \\\n",
       "Temperature (C)                    0.008304                0.029937   \n",
       "Apparent Temperature (C)          -0.057387                0.028951   \n",
       "Humidity                          -0.224569                0.000814   \n",
       "Wind Speed (km/h)                  1.000000                0.104366   \n",
       "Wind Bearing (degrees)             0.104366                1.000000   \n",
       "Visibility (km)                    0.100801                0.048900   \n",
       "Pressure (millibars)              -0.049453               -0.011629   \n",
       "Precip Type_Snowfall              -0.067771               -0.042142   \n",
       "Summary_Foggy                     -0.148718               -0.049201   \n",
       "Summary_Mostly Cloudy              0.055248                0.027994   \n",
       "Summary_Others                     0.421418                0.054237   \n",
       "Summary_Overcast                   0.080466               -0.016621   \n",
       "Summary_Partly Cloudy             -0.070561                0.016422   \n",
       "\n",
       "                          Visibility (km)  Pressure (millibars)  \\\n",
       "Temperature (C)                  0.393719             -0.005253   \n",
       "Apparent Temperature (C)         0.382589             -0.000037   \n",
       "Humidity                        -0.370511              0.005375   \n",
       "Wind Speed (km/h)                0.100801             -0.049453   \n",
       "Wind Bearing (degrees)           0.048900             -0.011629   \n",
       "Visibility (km)                  1.000000              0.061011   \n",
       "Pressure (millibars)             0.061011              1.000000   \n",
       "Precip Type_Snowfall            -0.316483              0.009271   \n",
       "Summary_Foggy                   -0.597414              0.010288   \n",
       "Summary_Mostly Cloudy            0.117192              0.041744   \n",
       "Summary_Others                   0.010984             -0.022050   \n",
       "Summary_Overcast                -0.119702              0.009493   \n",
       "Summary_Partly Cloudy            0.244970              0.059333   \n",
       "\n",
       "                          Precip Type_Snowfall  Summary_Foggy  \\\n",
       "Temperature (C)                      -0.563503      -0.310437   \n",
       "Apparent Temperature (C)             -0.566058      -0.292961   \n",
       "Humidity                              0.232622       0.312506   \n",
       "Wind Speed (km/h)                    -0.067771      -0.148718   \n",
       "Wind Bearing (degrees)               -0.042142      -0.049201   \n",
       "Visibility (km)                      -0.316483      -0.597414   \n",
       "Pressure (millibars)                  0.009271       0.010288   \n",
       "Precip Type_Snowfall                  1.000000       0.276235   \n",
       "Summary_Foggy                         0.276235       1.000000   \n",
       "Summary_Mostly Cloudy                -0.089686      -0.181335   \n",
       "Summary_Others                       -0.020967      -0.041209   \n",
       "Summary_Overcast                      0.066266      -0.129087   \n",
       "Summary_Partly Cloudy                -0.127585      -0.198550   \n",
       "\n",
       "                          Summary_Mostly Cloudy  Summary_Others  \\\n",
       "Temperature (C)                        0.046225       -0.009439   \n",
       "Apparent Temperature (C)               0.045561       -0.030935   \n",
       "Humidity                              -0.031679       -0.063202   \n",
       "Wind Speed (km/h)                      0.055248        0.421418   \n",
       "Wind Bearing (degrees)                 0.027994        0.054237   \n",
       "Visibility (km)                        0.117192        0.010984   \n",
       "Pressure (millibars)                   0.041744       -0.022050   \n",
       "Precip Type_Snowfall                  -0.089686       -0.020967   \n",
       "Summary_Foggy                         -0.181335       -0.041209   \n",
       "Summary_Mostly Cloudy                  1.000000       -0.093258   \n",
       "Summary_Others                        -0.093258        1.000000   \n",
       "Summary_Overcast                      -0.292128       -0.066387   \n",
       "Summary_Partly Cloudy                 -0.449326       -0.102111   \n",
       "\n",
       "                          Summary_Overcast  Summary_Partly Cloudy  \n",
       "Temperature (C)                  -0.211532               0.300242  \n",
       "Apparent Temperature (C)         -0.216620               0.297419  \n",
       "Humidity                          0.239445              -0.309874  \n",
       "Wind Speed (km/h)                 0.080466              -0.070561  \n",
       "Wind Bearing (degrees)           -0.016621               0.016422  \n",
       "Visibility (km)                  -0.119702               0.244970  \n",
       "Pressure (millibars)              0.009493               0.059333  \n",
       "Precip Type_Snowfall              0.066266              -0.127585  \n",
       "Summary_Foggy                    -0.129087              -0.198550  \n",
       "Summary_Mostly Cloudy            -0.292128              -0.449326  \n",
       "Summary_Others                   -0.066387              -0.102111  \n",
       "Summary_Overcast                  1.000000              -0.319862  \n",
       "Summary_Partly Cloudy            -0.319862               1.000000  "
      ]
     },
     "execution_count": 449,
     "metadata": {},
     "output_type": "execute_result"
    }
   ],
   "source": [
    "#correlation between variables\n",
    "data.corr()"
   ]
  },
  {
   "cell_type": "code",
   "execution_count": 450,
   "metadata": {
    "scrolled": true
   },
   "outputs": [
    {
     "data": {
      "text/html": [
       "<div>\n",
       "<style scoped>\n",
       "    .dataframe tbody tr th:only-of-type {\n",
       "        vertical-align: middle;\n",
       "    }\n",
       "\n",
       "    .dataframe tbody tr th {\n",
       "        vertical-align: top;\n",
       "    }\n",
       "\n",
       "    .dataframe thead th {\n",
       "        text-align: right;\n",
       "    }\n",
       "</style>\n",
       "<table border=\"1\" class=\"dataframe\">\n",
       "  <thead>\n",
       "    <tr style=\"text-align: right;\">\n",
       "      <th></th>\n",
       "      <th>Formatted Date</th>\n",
       "      <th>Temperature (C)</th>\n",
       "      <th>Apparent Temperature (C)</th>\n",
       "      <th>Humidity</th>\n",
       "      <th>Wind Speed (km/h)</th>\n",
       "      <th>Wind Bearing (degrees)</th>\n",
       "      <th>Visibility (km)</th>\n",
       "      <th>Pressure (millibars)</th>\n",
       "      <th>Daily Summary</th>\n",
       "      <th>Precip Type_Snowfall</th>\n",
       "      <th>Summary_Foggy</th>\n",
       "      <th>Summary_Mostly Cloudy</th>\n",
       "      <th>Summary_Others</th>\n",
       "      <th>Summary_Overcast</th>\n",
       "      <th>Summary_Partly Cloudy</th>\n",
       "    </tr>\n",
       "  </thead>\n",
       "  <tbody>\n",
       "    <tr>\n",
       "      <th>0</th>\n",
       "      <td>2006-04-01 00:00:00.000 +0200</td>\n",
       "      <td>9.472222</td>\n",
       "      <td>7.388889</td>\n",
       "      <td>0.89</td>\n",
       "      <td>14.1197</td>\n",
       "      <td>251.0</td>\n",
       "      <td>15.8263</td>\n",
       "      <td>1015.13</td>\n",
       "      <td>Partly cloudy throughout the day.</td>\n",
       "      <td>0</td>\n",
       "      <td>0</td>\n",
       "      <td>0</td>\n",
       "      <td>0</td>\n",
       "      <td>0</td>\n",
       "      <td>1</td>\n",
       "    </tr>\n",
       "    <tr>\n",
       "      <th>1</th>\n",
       "      <td>2006-04-01 01:00:00.000 +0200</td>\n",
       "      <td>9.355556</td>\n",
       "      <td>7.227778</td>\n",
       "      <td>0.86</td>\n",
       "      <td>14.2646</td>\n",
       "      <td>259.0</td>\n",
       "      <td>15.8263</td>\n",
       "      <td>1015.63</td>\n",
       "      <td>Partly cloudy throughout the day.</td>\n",
       "      <td>0</td>\n",
       "      <td>0</td>\n",
       "      <td>0</td>\n",
       "      <td>0</td>\n",
       "      <td>0</td>\n",
       "      <td>1</td>\n",
       "    </tr>\n",
       "    <tr>\n",
       "      <th>2</th>\n",
       "      <td>2006-04-01 02:00:00.000 +0200</td>\n",
       "      <td>9.377778</td>\n",
       "      <td>9.377778</td>\n",
       "      <td>0.89</td>\n",
       "      <td>3.9284</td>\n",
       "      <td>204.0</td>\n",
       "      <td>14.9569</td>\n",
       "      <td>1015.94</td>\n",
       "      <td>Partly cloudy throughout the day.</td>\n",
       "      <td>0</td>\n",
       "      <td>0</td>\n",
       "      <td>1</td>\n",
       "      <td>0</td>\n",
       "      <td>0</td>\n",
       "      <td>0</td>\n",
       "    </tr>\n",
       "    <tr>\n",
       "      <th>3</th>\n",
       "      <td>2006-04-01 03:00:00.000 +0200</td>\n",
       "      <td>8.288889</td>\n",
       "      <td>5.944444</td>\n",
       "      <td>0.83</td>\n",
       "      <td>14.1036</td>\n",
       "      <td>269.0</td>\n",
       "      <td>15.8263</td>\n",
       "      <td>1016.41</td>\n",
       "      <td>Partly cloudy throughout the day.</td>\n",
       "      <td>0</td>\n",
       "      <td>0</td>\n",
       "      <td>0</td>\n",
       "      <td>0</td>\n",
       "      <td>0</td>\n",
       "      <td>1</td>\n",
       "    </tr>\n",
       "    <tr>\n",
       "      <th>4</th>\n",
       "      <td>2006-04-01 04:00:00.000 +0200</td>\n",
       "      <td>8.755556</td>\n",
       "      <td>6.977778</td>\n",
       "      <td>0.83</td>\n",
       "      <td>11.0446</td>\n",
       "      <td>259.0</td>\n",
       "      <td>15.8263</td>\n",
       "      <td>1016.51</td>\n",
       "      <td>Partly cloudy throughout the day.</td>\n",
       "      <td>0</td>\n",
       "      <td>0</td>\n",
       "      <td>1</td>\n",
       "      <td>0</td>\n",
       "      <td>0</td>\n",
       "      <td>0</td>\n",
       "    </tr>\n",
       "  </tbody>\n",
       "</table>\n",
       "</div>"
      ],
      "text/plain": [
       "                  Formatted Date  Temperature (C)  Apparent Temperature (C)  \\\n",
       "0  2006-04-01 00:00:00.000 +0200         9.472222                  7.388889   \n",
       "1  2006-04-01 01:00:00.000 +0200         9.355556                  7.227778   \n",
       "2  2006-04-01 02:00:00.000 +0200         9.377778                  9.377778   \n",
       "3  2006-04-01 03:00:00.000 +0200         8.288889                  5.944444   \n",
       "4  2006-04-01 04:00:00.000 +0200         8.755556                  6.977778   \n",
       "\n",
       "   Humidity  Wind Speed (km/h)  Wind Bearing (degrees)  Visibility (km)  \\\n",
       "0      0.89            14.1197                   251.0          15.8263   \n",
       "1      0.86            14.2646                   259.0          15.8263   \n",
       "2      0.89             3.9284                   204.0          14.9569   \n",
       "3      0.83            14.1036                   269.0          15.8263   \n",
       "4      0.83            11.0446                   259.0          15.8263   \n",
       "\n",
       "   Pressure (millibars)                      Daily Summary  \\\n",
       "0               1015.13  Partly cloudy throughout the day.   \n",
       "1               1015.63  Partly cloudy throughout the day.   \n",
       "2               1015.94  Partly cloudy throughout the day.   \n",
       "3               1016.41  Partly cloudy throughout the day.   \n",
       "4               1016.51  Partly cloudy throughout the day.   \n",
       "\n",
       "   Precip Type_Snowfall  Summary_Foggy  Summary_Mostly Cloudy  Summary_Others  \\\n",
       "0                     0              0                      0               0   \n",
       "1                     0              0                      0               0   \n",
       "2                     0              0                      1               0   \n",
       "3                     0              0                      0               0   \n",
       "4                     0              0                      1               0   \n",
       "\n",
       "   Summary_Overcast  Summary_Partly Cloudy  \n",
       "0                 0                      1  \n",
       "1                 0                      1  \n",
       "2                 0                      0  \n",
       "3                 0                      1  \n",
       "4                 0                      0  "
      ]
     },
     "execution_count": 450,
     "metadata": {},
     "output_type": "execute_result"
    }
   ],
   "source": [
    "data.head()"
   ]
  },
  {
   "cell_type": "code",
   "execution_count": 451,
   "metadata": {
    "scrolled": true
   },
   "outputs": [
    {
     "data": {
      "image/png": "[encoded data removed]",
      "text/plain": [
       "<Figure size 864x864 with 2 Axes>"
      ]
     },
     "metadata": {},
     "output_type": "display_data"
    }
   ],
   "source": [
    "#plotting heatmap a correlation matrix \n",
    "#setting the size of the figure to 16,12\n",
    "plt.figure(figsize=(12,12))\n",
    "#plotting a heatmap using seaborn library for the sample dataset, setting annot value to true as to write the data value\n",
    "#in each cell\n",
    "sns.heatmap(data.iloc[:,1:].corr(),annot=True,fmt='.1f',cmap='coolwarm')\n",
    "plt.show()"
   ]
  },
  {
   "cell_type": "markdown",
   "metadata": {},
   "source": [
    "# Linear Regression"
   ]
  },
  {
   "cell_type": "markdown",
   "metadata": {},
   "source": [
    "Target Variable - Temperature"
   ]
  },
  {
   "cell_type": "code",
   "execution_count": 766,
   "metadata": {},
   "outputs": [
    {
     "data": {
      "image/png": "[encoded data removed]",
      "text/plain": [
       "<Figure size 864x288 with 1 Axes>"
      ]
     },
     "metadata": {},
     "output_type": "display_data"
    }
   ],
   "source": [
    "fig, ax = plt.subplots(figsize=(12,4))\n",
    "sns.boxplot(x = 'Temperature (C)', data = data, orient = 'h', width = 0.8, \n",
    "                 fliersize = 3, showmeans=True, ax = ax)\n",
    "plt.show()"
   ]
  },
  {
   "cell_type": "markdown",
   "metadata": {},
   "source": [
    "From this we understand that there are a few outliers towards the left of the first quartile range or minimum values with the mean at approximately 12 and interquartile range of 19-5."
   ]
  },
  {
   "cell_type": "markdown",
   "metadata": {},
   "source": [
    "Linear regression is used for finding linear relationship between target and one or more predictors. One is predictor or independent variable and other is response or dependent variable.The core idea is to obtain a line that best fits the data. The best fit line is the one for which total prediction error (all data points) are as small as possible. Error is the distance between the point to the regression line."
   ]
  },
  {
   "cell_type": "markdown",
   "metadata": {},
   "source": [
    "## Model 1"
   ]
  },
  {
   "cell_type": "markdown",
   "metadata": {},
   "source": [
    "Considering many independent variables - 'Wind Speed (km/h)','Visibility (km)','Summary_Partly Cloudy','Summary_Overcast','Humidity','Precip Type_Snowfall', 'Summary_Foggy','Summary_Others' having the highest positive correlation values from the dataset "
   ]
  },
  {
   "cell_type": "code",
   "execution_count": 453,
   "metadata": {},
   "outputs": [
    {
     "data": {
      "text/plain": [
       "Index(['Formatted Date', 'Temperature (C)', 'Apparent Temperature (C)',\n",
       "       'Humidity', 'Wind Speed (km/h)', 'Wind Bearing (degrees)',\n",
       "       'Visibility (km)', 'Pressure (millibars)', 'Daily Summary',\n",
       "       'Precip Type_Snowfall', 'Summary_Foggy', 'Summary_Mostly Cloudy',\n",
       "       'Summary_Others', 'Summary_Overcast', 'Summary_Partly Cloudy'],\n",
       "      dtype='object')"
      ]
     },
     "execution_count": 453,
     "metadata": {},
     "output_type": "execute_result"
    }
   ],
   "source": [
    "data.columns"
   ]
  },
  {
   "cell_type": "code",
   "execution_count": 524,
   "metadata": {},
   "outputs": [],
   "source": [
    "# Store independent and dependent variable in X, Y respectively\n",
    "X = data[['Wind Speed (km/h)','Visibility (km)','Summary_Partly Cloudy','Summary_Overcast','Humidity','Precip Type_Snowfall', 'Summary_Foggy','Summary_Others']]\n",
    "Y = data[['Temperature (C)']]"
   ]
  },
  {
   "cell_type": "code",
   "execution_count": 525,
   "metadata": {},
   "outputs": [],
   "source": [
    "# Split dataset into training and test set\n",
    "X_train, X_test, Y_train, Y_test = train_test_split(X, Y, test_size = 0.2, random_state = 0)"
   ]
  },
  {
   "cell_type": "code",
   "execution_count": 526,
   "metadata": {},
   "outputs": [
    {
     "data": {
      "text/plain": [
       "LinearRegression(copy_X=True, fit_intercept=True, n_jobs=1, normalize=False)"
      ]
     },
     "execution_count": 526,
     "metadata": {},
     "output_type": "execute_result"
    }
   ],
   "source": [
    "# Fitting the training set into simple linear regression\n",
    "regressor = linear_model.LinearRegression()\n",
    "regressor.fit(X_train, Y_train)"
   ]
  },
  {
   "cell_type": "code",
   "execution_count": 527,
   "metadata": {},
   "outputs": [
    {
     "name": "stdout",
     "output_type": "stream",
     "text": [
      "[32.36111266]\n",
      "[[ -0.19742779   0.13820134   1.07051376  -0.59593908 -25.21314624\n",
      "  -12.85717095  -0.32619741   0.86762078]]\n"
     ]
    }
   ],
   "source": [
    "print(regressor.intercept_)\n",
    "print(regressor.coef_)"
   ]
  },
  {
   "cell_type": "code",
   "execution_count": 528,
   "metadata": {},
   "outputs": [],
   "source": [
    "# Predicting the test set results\n",
    "pred = regressor.predict(X_test)"
   ]
  },
  {
   "cell_type": "code",
   "execution_count": 529,
   "metadata": {},
   "outputs": [
    {
     "data": {
      "text/plain": [
       "<matplotlib.collections.PathCollection at 0x26a60fe1ef0>"
      ]
     },
     "execution_count": 529,
     "metadata": {},
     "output_type": "execute_result"
    },
    {
     "data": {
      "image/png": "[encoded data removed]",
      "text/plain": [
       "<Figure size 432x288 with 1 Axes>"
      ]
     },
     "metadata": {},
     "output_type": "display_data"
    }
   ],
   "source": [
    "plt.scatter(Y_test,pred)"
   ]
  },
  {
   "cell_type": "code",
   "execution_count": 530,
   "metadata": {},
   "outputs": [],
   "source": [
    "#Our model needs an intercept so we add a column of it\n",
    "X = sm.add_constant(X)"
   ]
  },
  {
   "cell_type": "code",
   "execution_count": 531,
   "metadata": {},
   "outputs": [
    {
     "name": "stdout",
     "output_type": "stream",
     "text": [
      "                            OLS Regression Results                            \n",
      "==============================================================================\n",
      "Dep. Variable:        Temperature (C)   R-squared:                       0.612\n",
      "Model:                            OLS   Adj. R-squared:                  0.612\n",
      "Method:                 Least Squares   F-statistic:                 1.890e+04\n",
      "Date:                Mon, 25 Feb 2019   Prob (F-statistic):               0.00\n",
      "Time:                        14:52:03   Log-Likelihood:            -3.0743e+05\n",
      "No. Observations:               95936   AIC:                         6.149e+05\n",
      "Df Residuals:                   95927   BIC:                         6.150e+05\n",
      "Df Model:                           8                                         \n",
      "Covariance Type:            nonrobust                                         \n",
      "=========================================================================================\n",
      "                            coef    std err          t      P>|t|      [0.025      0.975]\n",
      "-----------------------------------------------------------------------------------------\n",
      "const                    32.4213      0.130    249.835      0.000      32.167      32.676\n",
      "Wind Speed (km/h)        -0.1986      0.003    -61.900      0.000      -0.205      -0.192\n",
      "Visibility (km)           0.1413      0.006     23.069      0.000       0.129       0.153\n",
      "Summary_Partly Cloudy     1.0683      0.046     23.131      0.000       0.978       1.159\n",
      "Summary_Overcast         -0.6126      0.058    -10.527      0.000      -0.727      -0.499\n",
      "Humidity                -25.3191      0.116   -218.702      0.000     -25.546     -25.092\n",
      "Precip Type_Snowfall    -12.8339      0.065   -196.322      0.000     -12.962     -12.706\n",
      "Summary_Foggy            -0.3183      0.098     -3.250      0.001      -0.510      -0.126\n",
      "Summary_Others            0.8201      0.151      5.421      0.000       0.524       1.117\n",
      "==============================================================================\n",
      "Omnibus:                     1328.567   Durbin-Watson:                   0.143\n",
      "Prob(Omnibus):                  0.000   Jarque-Bera (JB):             1300.049\n",
      "Skew:                          -0.260   Prob(JB):                    4.99e-283\n",
      "Kurtosis:                       2.766   Cond. No.                         140.\n",
      "==============================================================================\n",
      "\n",
      "Warnings:\n",
      "[1] Standard Errors assume that the covariance matrix of the errors is correctly specified.\n"
     ]
    }
   ],
   "source": [
    "# Statistical data exploration\n",
    "model = sm.OLS(Y,X).fit()\n",
    "print (model.summary())"
   ]
  },
  {
   "cell_type": "markdown",
   "metadata": {},
   "source": [
    "Observation -\n",
    "\n",
    "The value of R-square and adjusted R-square is 0.612 and the p-value for the predictors are highly significant with 0.00 values which means these variables are great predictors of temperature.Humidity and Precip Type_Snowfall are the bets predictors in the model follwed by the rets of the predcitors."
   ]
  },
  {
   "cell_type": "code",
   "execution_count": 532,
   "metadata": {},
   "outputs": [
    {
     "name": "stdout",
     "output_type": "stream",
     "text": [
      "Parameters:  const                    32.421350\n",
      "Wind Speed (km/h)        -0.198588\n",
      "Visibility (km)           0.141252\n",
      "Summary_Partly Cloudy     1.068258\n",
      "Summary_Overcast         -0.612626\n",
      "Humidity                -25.319148\n",
      "Precip Type_Snowfall    -12.833911\n",
      "Summary_Foggy            -0.318273\n",
      "Summary_Others            0.820106\n",
      "dtype: float64\n",
      "R2:  0.6118207836100285\n"
     ]
    }
   ],
   "source": [
    "# Print the coefficients\n",
    "print('Parameters: ', model.params)\n",
    "print('R2: ', model.rsquared)"
   ]
  },
  {
   "cell_type": "code",
   "execution_count": 533,
   "metadata": {},
   "outputs": [
    {
     "name": "stdout",
     "output_type": "stream",
     "text": [
      "accuracy:61.78703062715438\n",
      "Mean Score:0.6178703062715438\n",
      "Variance Score:0.0036372570810799688\n"
     ]
    }
   ],
   "source": [
    "#Applying K-fold cross validation\n",
    "from sklearn.model_selection import cross_val_score # To perform cross validation\n",
    "score = cross_val_score(regressor,X_test,Y_test, cv = 5)\n",
    "print('accuracy:' +str(score.mean()*100))\n",
    "print('Mean Score:' + str(score.mean()))\n",
    "print('Variance Score:' + str(score.std()))"
   ]
  },
  {
   "cell_type": "markdown",
   "metadata": {},
   "source": [
    "K-fold cross validation is a simple, intuitive way to estimate prediction error. K-Folds Cross Validation we split our data into k different subsets (or folds). We use k-1 subsets to train our data and leave the last subset (or the last fold) as test data. We then average the model against each of the folds and then finalize our model. After that we test it against the test set.."
   ]
  },
  {
   "cell_type": "markdown",
   "metadata": {},
   "source": [
    "The accuracy of the model here is 61.78%."
   ]
  },
  {
   "cell_type": "code",
   "execution_count": null,
   "metadata": {},
   "outputs": [],
   "source": []
  },
  {
   "cell_type": "markdown",
   "metadata": {},
   "source": [
    "## Model 2"
   ]
  },
  {
   "cell_type": "markdown",
   "metadata": {},
   "source": [
    "On removing Summary_Foggy from the above model based on the least t scores - 3.250..."
   ]
  },
  {
   "cell_type": "markdown",
   "metadata": {},
   "source": [
    "Performing backward elimination - Stepwise regression in predicting the target variable - Temperature"
   ]
  },
  {
   "cell_type": "code",
   "execution_count": 534,
   "metadata": {
    "scrolled": true
   },
   "outputs": [],
   "source": [
    "# Store independent and dependent variable in X, Y respectively\n",
    "X = data[['Wind Speed (km/h)','Visibility (km)','Summary_Partly Cloudy','Summary_Overcast','Humidity','Precip Type_Snowfall','Summary_Others']]\n",
    "Y = data[['Temperature (C)']]"
   ]
  },
  {
   "cell_type": "code",
   "execution_count": 535,
   "metadata": {},
   "outputs": [],
   "source": [
    "# Split dataset into training and test set\n",
    "X_train, X_test, Y_train, Y_test = train_test_split(X, Y, test_size = 0.2, random_state = 0)\n"
   ]
  },
  {
   "cell_type": "code",
   "execution_count": 536,
   "metadata": {},
   "outputs": [
    {
     "data": {
      "text/plain": [
       "LinearRegression(copy_X=True, fit_intercept=True, n_jobs=1, normalize=False)"
      ]
     },
     "execution_count": 536,
     "metadata": {},
     "output_type": "execute_result"
    }
   ],
   "source": [
    "# Fitting the training set into simple linear regression\n",
    "regressor = linear_model.LinearRegression()\n",
    "regressor.fit(X_train, Y_train)"
   ]
  },
  {
   "cell_type": "code",
   "execution_count": 537,
   "metadata": {},
   "outputs": [
    {
     "data": {
      "text/plain": [
       "<matplotlib.collections.PathCollection at 0x26a598e96a0>"
      ]
     },
     "execution_count": 537,
     "metadata": {},
     "output_type": "execute_result"
    },
    {
     "data": {
      "image/png": "[encoded data removed]",
      "text/plain": [
       "<Figure size 432x288 with 1 Axes>"
      ]
     },
     "metadata": {},
     "output_type": "display_data"
    }
   ],
   "source": [
    "# Predicting the test set results\n",
    "pred = regressor.predict(X_test)\n",
    "plt.scatter(Y_test,pred)"
   ]
  },
  {
   "cell_type": "code",
   "execution_count": 538,
   "metadata": {},
   "outputs": [],
   "source": [
    "#Our model needs an intercept so we add a column of it\n",
    "X = sm.add_constant(X)"
   ]
  },
  {
   "cell_type": "code",
   "execution_count": 539,
   "metadata": {
    "scrolled": false
   },
   "outputs": [
    {
     "name": "stdout",
     "output_type": "stream",
     "text": [
      "                            OLS Regression Results                            \n",
      "==============================================================================\n",
      "Dep. Variable:        Temperature (C)   R-squared:                       0.612\n",
      "Model:                            OLS   Adj. R-squared:                  0.612\n",
      "Method:                 Least Squares   F-statistic:                 2.160e+04\n",
      "Date:                Mon, 25 Feb 2019   Prob (F-statistic):               0.00\n",
      "Time:                        14:52:43   Log-Likelihood:            -3.0743e+05\n",
      "No. Observations:               95936   AIC:                         6.149e+05\n",
      "Df Residuals:                   95928   BIC:                         6.150e+05\n",
      "Df Model:                           7                                         \n",
      "Covariance Type:            nonrobust                                         \n",
      "=========================================================================================\n",
      "                            coef    std err          t      P>|t|      [0.025      0.975]\n",
      "-----------------------------------------------------------------------------------------\n",
      "const                    32.3052      0.125    258.934      0.000      32.061      32.550\n",
      "Wind Speed (km/h)        -0.1982      0.003    -61.817      0.000      -0.204      -0.192\n",
      "Visibility (km)           0.1518      0.005     29.257      0.000       0.142       0.162\n",
      "Summary_Partly Cloudy     1.0883      0.046     23.778      0.000       0.999       1.178\n",
      "Summary_Overcast         -0.5548      0.055    -10.012      0.000      -0.663      -0.446\n",
      "Humidity                -25.3681      0.115   -220.996      0.000     -25.593     -25.143\n",
      "Precip Type_Snowfall    -12.8556      0.065   -197.678      0.000     -12.983     -12.728\n",
      "Summary_Others            0.8442      0.151      5.587      0.000       0.548       1.140\n",
      "==============================================================================\n",
      "Omnibus:                     1307.488   Durbin-Watson:                   0.143\n",
      "Prob(Omnibus):                  0.000   Jarque-Bera (JB):             1282.131\n",
      "Skew:                          -0.259   Prob(JB):                    3.88e-279\n",
      "Kurtosis:                       2.770   Cond. No.                         139.\n",
      "==============================================================================\n",
      "\n",
      "Warnings:\n",
      "[1] Standard Errors assume that the covariance matrix of the errors is correctly specified.\n"
     ]
    }
   ],
   "source": [
    "# Statistical data exploration\n",
    "model = sm.OLS(Y,X).fit()\n",
    "print (model.summary())"
   ]
  },
  {
   "cell_type": "markdown",
   "metadata": {},
   "source": [
    "Observation -                                                                \n",
    "\n",
    "From the above model, the values of R squared and adjusted R squared remains the same from the previous models along wit the AIC and BIC values there is no much of impact on removing the predictor \"Summary_Foggy\". The predictors still have quite significant p values and are still good predictors of the target variable temperature.Humidity and Precip Type_Snowfall still remains the best predictor for the target variable Temperature followed by the remaining variables."
   ]
  },
  {
   "cell_type": "code",
   "execution_count": 540,
   "metadata": {},
   "outputs": [
    {
     "name": "stdout",
     "output_type": "stream",
     "text": [
      "Parameters:  const                    32.305244\n",
      "Wind Speed (km/h)        -0.198183\n",
      "Visibility (km)           0.151816\n",
      "Summary_Partly Cloudy     1.088345\n",
      "Summary_Overcast         -0.554835\n",
      "Humidity                -25.368147\n",
      "Precip Type_Snowfall    -12.855611\n",
      "Summary_Others            0.844188\n",
      "dtype: float64\n",
      "R2:  0.6117780441530946\n"
     ]
    }
   ],
   "source": [
    "# Print the coefficients\n",
    "print('Parameters: ', model.params)\n",
    "print('R2: ', model.rsquared)"
   ]
  },
  {
   "cell_type": "code",
   "execution_count": 541,
   "metadata": {},
   "outputs": [
    {
     "name": "stdout",
     "output_type": "stream",
     "text": [
      "Accuracy :61.78402388884881\n",
      "Mean Score:0.617840238888488\n",
      "Variance Score:0.0036328279354116873\n"
     ]
    }
   ],
   "source": [
    "#Applying K-fold cross validation\n",
    "score = cross_val_score(regressor, X_test,Y_test, cv = 5)\n",
    "print('Accuracy :' + str(score.mean()*100))\n",
    "print('Mean Score:' + str(score.mean()))\n",
    "print('Variance Score:' + str(score.std()))"
   ]
  },
  {
   "cell_type": "markdown",
   "metadata": {},
   "source": [
    "The accuracy of the model has not changed from the previous model even after removing one of the predictor on the basis of t score values."
   ]
  },
  {
   "cell_type": "code",
   "execution_count": null,
   "metadata": {},
   "outputs": [],
   "source": []
  },
  {
   "cell_type": "markdown",
   "metadata": {},
   "source": [
    "## Model 3"
   ]
  },
  {
   "cell_type": "markdown",
   "metadata": {},
   "source": [
    "On removing Summary_Others predictor having the least t score from the above model.."
   ]
  },
  {
   "cell_type": "code",
   "execution_count": 613,
   "metadata": {},
   "outputs": [],
   "source": [
    "# Store independent and dependent variable in X, Y respectively\n",
    "X = data[['Wind Speed (km/h)','Visibility (km)','Summary_Partly Cloudy','Humidity','Precip Type_Snowfall','Summary_Overcast']]\n",
    "Y = data[['Temperature (C)']]"
   ]
  },
  {
   "cell_type": "code",
   "execution_count": 614,
   "metadata": {},
   "outputs": [],
   "source": [
    "# Split dataset into training and test set\n",
    "X_train, X_test, Y_train, Y_test = train_test_split(X, Y, test_size = 0.2, random_state = 0)"
   ]
  },
  {
   "cell_type": "code",
   "execution_count": 615,
   "metadata": {},
   "outputs": [
    {
     "data": {
      "text/plain": [
       "LinearRegression(copy_X=True, fit_intercept=True, n_jobs=1, normalize=False)"
      ]
     },
     "execution_count": 615,
     "metadata": {},
     "output_type": "execute_result"
    }
   ],
   "source": [
    "# Fitting the training set into simple linear regression\n",
    "regressor = linear_model.LinearRegression()\n",
    "regressor.fit(X_train, Y_train)"
   ]
  },
  {
   "cell_type": "code",
   "execution_count": 616,
   "metadata": {},
   "outputs": [
    {
     "name": "stdout",
     "output_type": "stream",
     "text": [
      "[32.17961161]\n",
      "[[ -0.18896939   0.14863185   1.06282254 -25.24101386 -12.88220657\n",
      "   -0.58565905]]\n"
     ]
    }
   ],
   "source": [
    "\n",
    "print(regressor.intercept_)\n",
    "print(regressor.coef_)"
   ]
  },
  {
   "cell_type": "code",
   "execution_count": 617,
   "metadata": {},
   "outputs": [
    {
     "data": {
      "text/plain": [
       "<matplotlib.collections.PathCollection at 0x26a5c589278>"
      ]
     },
     "execution_count": 617,
     "metadata": {},
     "output_type": "execute_result"
    },
    {
     "data": {
      "image/png": "[encoded data removed]",
      "text/plain": [
       "<Figure size 432x288 with 1 Axes>"
      ]
     },
     "metadata": {},
     "output_type": "display_data"
    }
   ],
   "source": [
    "# Predicting the test set results\n",
    "pred = regressor.predict(X_test)\n",
    "plt.scatter(Y_test,pred)"
   ]
  },
  {
   "cell_type": "code",
   "execution_count": 618,
   "metadata": {},
   "outputs": [],
   "source": [
    "#Our model needs an intercept so we add a column of it\n",
    "X = sm.add_constant(X)\n"
   ]
  },
  {
   "cell_type": "code",
   "execution_count": 619,
   "metadata": {
    "scrolled": false
   },
   "outputs": [
    {
     "name": "stdout",
     "output_type": "stream",
     "text": [
      "                            OLS Regression Results                            \n",
      "==============================================================================\n",
      "Dep. Variable:        Temperature (C)   R-squared:                       0.612\n",
      "Model:                            OLS   Adj. R-squared:                  0.612\n",
      "Method:                 Least Squares   F-statistic:                 2.518e+04\n",
      "Date:                Mon, 25 Feb 2019   Prob (F-statistic):               0.00\n",
      "Time:                        15:22:59   Log-Likelihood:            -3.0745e+05\n",
      "No. Observations:               95936   AIC:                         6.149e+05\n",
      "Df Residuals:                   95929   BIC:                         6.150e+05\n",
      "Df Model:                           6                                         \n",
      "Covariance Type:            nonrobust                                         \n",
      "=========================================================================================\n",
      "                            coef    std err          t      P>|t|      [0.025      0.975]\n",
      "-----------------------------------------------------------------------------------------\n",
      "const                    32.2480      0.124    259.311      0.000      32.004      32.492\n",
      "Wind Speed (km/h)        -0.1906      0.003    -65.553      0.000      -0.196      -0.185\n",
      "Visibility (km)           0.1514      0.005     29.174      0.000       0.141       0.162\n",
      "Summary_Partly Cloudy     1.0615      0.046     23.317      0.000       0.972       1.151\n",
      "Humidity                -25.3481      0.115   -220.895      0.000     -25.573     -25.123\n",
      "Precip Type_Snowfall    -12.8585      0.065   -197.698      0.000     -12.986     -12.731\n",
      "Summary_Overcast         -0.6007      0.055    -10.959      0.000      -0.708      -0.493\n",
      "==============================================================================\n",
      "Omnibus:                     1314.786   Durbin-Watson:                   0.143\n",
      "Prob(Omnibus):                  0.000   Jarque-Bera (JB):             1289.318\n",
      "Skew:                          -0.260   Prob(JB):                    1.07e-280\n",
      "Kurtosis:                       2.770   Cond. No.                         138.\n",
      "==============================================================================\n",
      "\n",
      "Warnings:\n",
      "[1] Standard Errors assume that the covariance matrix of the errors is correctly specified.\n"
     ]
    }
   ],
   "source": [
    "# Statistical data exploration\n",
    "model = sm.OLS(Y,X).fit()\n",
    "print (model.summary())"
   ]
  },
  {
   "cell_type": "markdown",
   "metadata": {},
   "source": [
    "Observation -\n",
    "From the table although the p value is quite significant but the value of R squared and adjusted R square still remains the same - 0.612 with same values of AIC and BIC from the previous models.. humidity, Precip Type_Snowfall, Wind Speed still continue to predict the temperature follwed by the rets of the predictors and Summary_Overcast having the least T score the least predictor."
   ]
  },
  {
   "cell_type": "code",
   "execution_count": 620,
   "metadata": {
    "scrolled": false
   },
   "outputs": [
    {
     "name": "stdout",
     "output_type": "stream",
     "text": [
      "Parameters:  const                    32.247983\n",
      "Wind Speed (km/h)        -0.190638\n",
      "Visibility (km)           0.151394\n",
      "Summary_Partly Cloudy     1.061514\n",
      "Humidity                -25.348137\n",
      "Precip Type_Snowfall    -12.858518\n",
      "Summary_Overcast         -0.600697\n",
      "dtype: float64\n",
      "R2:  0.611651713819251\n",
      "[32.17961161]\n",
      "[[ -0.18896939   0.14863185   1.06282254 -25.24101386 -12.88220657\n",
      "   -0.58565905]]\n"
     ]
    }
   ],
   "source": [
    "\n",
    "# Print the coefficients\n",
    "print('Parameters: ', model.params)\n",
    "print('R2: ', model.rsquared)\n",
    "print(regressor.intercept_)\n",
    "print(regressor.coef_)"
   ]
  },
  {
   "cell_type": "code",
   "execution_count": 622,
   "metadata": {},
   "outputs": [
    {
     "name": "stdout",
     "output_type": "stream",
     "text": [
      "Accuracy:61.781796400119426\n",
      "Mean Score:0.6178179640011943\n",
      "Variance Score:0.0036491442938086736\n"
     ]
    }
   ],
   "source": [
    "#Applying K-fold cross validation\n",
    "score = cross_val_score(regressor, X_test,Y_test, cv = 5)\n",
    "print('Accuracy:' + str(score.mean()*100))\n",
    "print('Mean Score:' + str(score.mean()))\n",
    "print('Variance Score:' + str(score.std()))"
   ]
  },
  {
   "cell_type": "markdown",
   "metadata": {},
   "source": [
    "Observation : The accuracy of the score has decreased a little minutely from 61.78% to 61.38% with same AIC,BIC, R squared and adjusted R sqaured values..."
   ]
  },
  {
   "cell_type": "markdown",
   "metadata": {},
   "source": [
    "Trying to improve the model by eliminating the feature based on least t score - Summary_Overcast"
   ]
  },
  {
   "cell_type": "code",
   "execution_count": 624,
   "metadata": {},
   "outputs": [
    {
     "name": "stdout",
     "output_type": "stream",
     "text": [
      "                            OLS Regression Results                            \n",
      "==============================================================================\n",
      "Dep. Variable:        Temperature (C)   R-squared:                       0.741\n",
      "Model:                            OLS   Adj. R-squared:                  0.741\n",
      "Method:                 Least Squares   F-statistic:                 5.489e+04\n",
      "Date:                Mon, 25 Feb 2019   Prob (F-statistic):               0.00\n",
      "Time:                        15:23:19   Log-Likelihood:            -3.3305e+05\n",
      "No. Observations:               95936   AIC:                         6.661e+05\n",
      "Df Residuals:                   95931   BIC:                         6.662e+05\n",
      "Df Model:                           5                                         \n",
      "Covariance Type:            nonrobust                                         \n",
      "=========================================================================================\n",
      "                            coef    std err          t      P>|t|      [0.025      0.975]\n",
      "-----------------------------------------------------------------------------------------\n",
      "Wind Speed (km/h)         0.1134      0.003     32.918      0.000       0.107       0.120\n",
      "Visibility (km)           0.9545      0.005    175.338      0.000       0.944       0.965\n",
      "Precip Type_Snowfall    -11.2298      0.085   -132.837      0.000     -11.396     -11.064\n",
      "Summary_Partly Cloudy     4.3293      0.055     78.158      0.000       4.221       4.438\n",
      "Humidity                 -0.1694      0.074     -2.279      0.023      -0.315      -0.024\n",
      "==============================================================================\n",
      "Omnibus:                      545.604   Durbin-Watson:                   0.188\n",
      "Prob(Omnibus):                  0.000   Jarque-Bera (JB):              492.553\n",
      "Skew:                           0.135   Prob(JB):                    1.11e-107\n",
      "Kurtosis:                       2.775   Cond. No.                         60.9\n",
      "==============================================================================\n",
      "\n",
      "Warnings:\n",
      "[1] Standard Errors assume that the covariance matrix of the errors is correctly specified.\n"
     ]
    }
   ],
   "source": [
    "#On removing the Humidity from the above model..\n",
    "X = data[['Wind Speed (km/h)','Visibility (km)','Precip Type_Snowfall','Summary_Partly Cloudy','Humidity']]\n",
    "Y = data[['Temperature (C)']]\n",
    "\n",
    "# Split dataset into training and test set\n",
    "X_train, X_test, Y_train, Y_test = train_test_split(X, Y, test_size = 0.2, random_state = 0)\n",
    "\n",
    "# Create a linear regression object\n",
    "reg = linear_model.LinearRegression()\n",
    "regressor.fit(X_train, Y_train)\n",
    "\n",
    "# Statistical data exploration\n",
    "model4 = sm.OLS(Y,X).fit()\n",
    "print (model4.summary())"
   ]
  },
  {
   "cell_type": "code",
   "execution_count": 625,
   "metadata": {},
   "outputs": [
    {
     "name": "stdout",
     "output_type": "stream",
     "text": [
      "Accuracy:61.72340889595851\n",
      "Mean Score:0.6172340889595851\n",
      "Variance Score:0.0036981562503076767\n"
     ]
    }
   ],
   "source": [
    "#Applying K-fold cross validation\n",
    "score = cross_val_score(regressor, X_test,Y_test, cv = 5)  \n",
    "print('Accuracy:' + str(score.mean()*100))\n",
    "print('Mean Score:' + str(score.mean()))\n",
    "print('Variance Score:' + str(score.std()))"
   ]
  },
  {
   "cell_type": "markdown",
   "metadata": {},
   "source": [
    "Observation -\n",
    "\n",
    "From the above table, we see that the values of R squared and adjusted R squared have increased significantly with accuracy values being 61.723 (minute difference with previous value). Hence we use this feature with the best predictors being humidity, Precip Type_Snowfall and Summary_Partly Cloudy"
   ]
  },
  {
   "cell_type": "code",
   "execution_count": null,
   "metadata": {},
   "outputs": [],
   "source": []
  },
  {
   "cell_type": "markdown",
   "metadata": {},
   "source": [
    "# Interaction Effects"
   ]
  },
  {
   "cell_type": "markdown",
   "metadata": {},
   "source": [
    "## Model 1"
   ]
  },
  {
   "cell_type": "markdown",
   "metadata": {},
   "source": [
    "An interaction variable is a variable constructed from an original set of variables to try to represent either all of the interaction present or some part of it. An interaction variable models the simultaneous influence of two predictors on a third response variable is not additive. We want to know whether the joint effect is higher than the sum of both effects. An an interaction may arise when considering the relationship among three or more variables, and describes a situation in which the simultaneous influence of two variables on a third is not additive."
   ]
  },
  {
   "cell_type": "code",
   "execution_count": 600,
   "metadata": {
    "scrolled": true
   },
   "outputs": [
    {
     "data": {
      "image/png": "[encoded data removed]",
      "text/plain": [
       "<Figure size 864x864 with 2 Axes>"
      ]
     },
     "metadata": {},
     "output_type": "display_data"
    }
   ],
   "source": [
    "#plotting heatmap a correlation matrix \n",
    "#setting the size of the figure to 16,12\n",
    "plt.figure(figsize=(12,12))\n",
    "#plotting a heatmap using seaborn library for the sample dataset, setting annot value to true as to write the data value\n",
    "#in each cell\n",
    "sns.heatmap(data.iloc[:,1:].corr(),annot=True,fmt='.1f',cmap='coolwarm')\n",
    "plt.show()"
   ]
  },
  {
   "cell_type": "code",
   "execution_count": 601,
   "metadata": {},
   "outputs": [],
   "source": [
    "data[\"SummaryOthers*WindSpeed\"]=data['Summary_Others']*data['Wind Speed (km/h)']"
   ]
  },
  {
   "cell_type": "markdown",
   "metadata": {},
   "source": [
    "We earlier saw that Summary Others alone does not have a significant effect on Temperature based on its low t score and we had eliminated this feature. But it has a combined effect with Windspeed on temperature. Let us now remove Wind speed as feature and include the interaction term 'SummaryOthers*WindSpeed' in our model and check its impact on the score."
   ]
  },
  {
   "cell_type": "code",
   "execution_count": 626,
   "metadata": {},
   "outputs": [],
   "source": [
    "X = data[['SummaryOthers*WindSpeed','Visibility (km)','Summary_Partly Cloudy','Humidity','Precip Type_Snowfall','Summary_Overcast']]\n",
    "Y = data[['Temperature (C)']]"
   ]
  },
  {
   "cell_type": "code",
   "execution_count": 627,
   "metadata": {},
   "outputs": [],
   "source": [
    "# Split dataset into training and test set\n",
    "X_train, X_test, Y_train, Y_test = train_test_split(X, Y, test_size = 0.2, random_state = 0)"
   ]
  },
  {
   "cell_type": "code",
   "execution_count": 628,
   "metadata": {},
   "outputs": [
    {
     "data": {
      "text/plain": [
       "LinearRegression(copy_X=True, fit_intercept=True, n_jobs=1, normalize=False)"
      ]
     },
     "execution_count": 628,
     "metadata": {},
     "output_type": "execute_result"
    }
   ],
   "source": [
    "# Create a linear regression object\n",
    "reg = linear_model.LinearRegression()\n",
    "regressor.fit(X_train, Y_train)"
   ]
  },
  {
   "cell_type": "code",
   "execution_count": 629,
   "metadata": {
    "scrolled": true
   },
   "outputs": [
    {
     "name": "stdout",
     "output_type": "stream",
     "text": [
      "                            OLS Regression Results                            \n",
      "==============================================================================\n",
      "Dep. Variable:        Temperature (C)   R-squared:                       0.738\n",
      "Model:                            OLS   Adj. R-squared:                  0.738\n",
      "Method:                 Least Squares   F-statistic:                 4.515e+04\n",
      "Date:                Mon, 25 Feb 2019   Prob (F-statistic):               0.00\n",
      "Time:                        15:25:06   Log-Likelihood:            -3.3351e+05\n",
      "No. Observations:               95936   AIC:                         6.670e+05\n",
      "Df Residuals:                   95930   BIC:                         6.671e+05\n",
      "Df Model:                           6                                         \n",
      "Covariance Type:            nonrobust                                         \n",
      "===========================================================================================\n",
      "                              coef    std err          t      P>|t|      [0.025      0.975]\n",
      "-------------------------------------------------------------------------------------------\n",
      "SummaryOthers*WindSpeed    -0.0139      0.006     -2.504      0.012      -0.025      -0.003\n",
      "Visibility (km)             1.0253      0.005    201.920      0.000       1.015       1.035\n",
      "Summary_Partly Cloudy       4.0322      0.058     69.331      0.000       3.918       4.146\n",
      "Humidity                    0.7607      0.076     10.065      0.000       0.613       0.909\n",
      "Precip Type_Snowfall      -11.1601      0.085   -131.420      0.000     -11.327     -10.994\n",
      "Summary_Overcast           -0.8800      0.072    -12.259      0.000      -1.021      -0.739\n",
      "==============================================================================\n",
      "Omnibus:                      528.000   Durbin-Watson:                   0.192\n",
      "Prob(Omnibus):                  0.000   Jarque-Bera (JB):              503.562\n",
      "Skew:                           0.152   Prob(JB):                    4.50e-110\n",
      "Kurtosis:                       2.817   Cond. No.                         43.1\n",
      "==============================================================================\n",
      "\n",
      "Warnings:\n",
      "[1] Standard Errors assume that the covariance matrix of the errors is correctly specified.\n"
     ]
    }
   ],
   "source": [
    "result = sm.OLS(Y,X).fit()\n",
    "print (result.summary())"
   ]
  },
  {
   "cell_type": "code",
   "execution_count": 630,
   "metadata": {},
   "outputs": [
    {
     "name": "stdout",
     "output_type": "stream",
     "text": [
      "Accuracy Score:60.295422718382376\n",
      "Mean Score:0.6029542271838237\n",
      "Variance Score:0.00597089321322439\n"
     ]
    }
   ],
   "source": [
    "#Applying K-fold cross validation\n",
    "score = cross_val_score(regressor , X_test ,Y_test, cv = 5)  \n",
    "print('Accuracy Score:' + str(score.mean()*100))\n",
    "print('Mean Score:' + str(score.mean()))\n",
    "print('Variance Score:' + str(score.std()))"
   ]
  },
  {
   "cell_type": "markdown",
   "metadata": {},
   "source": [
    "Observation -\n",
    "On adding this interaction term, we see that the combined interaction effect of wind speed and summary others decreased the score to 60.29% although there is increase in the  R squared and adjusted R squared values. The value of AIC, BIC also increases. This means it gave us poor results meaning there is not a significant synergy effect in these features."
   ]
  },
  {
   "cell_type": "markdown",
   "metadata": {},
   "source": [
    "## Model 2"
   ]
  },
  {
   "cell_type": "code",
   "execution_count": 631,
   "metadata": {},
   "outputs": [],
   "source": [
    "data[\"SummaryFoggy*Precip Type_Snowfall\"] = data['Summary_Foggy']*data['Precip Type_Snowfall']"
   ]
  },
  {
   "cell_type": "markdown",
   "metadata": {},
   "source": [
    "We earlier saw that Summary Foggy alone does not have a significant effect on Temperature. But it has a combined effect with Precip Type_Snowfall' on temperature. Let us now remove Wind speed as feature and include the interaction term \"SummaryFoggy*Precip Type_Snowfall\" in our model and check its impact on the score."
   ]
  },
  {
   "cell_type": "code",
   "execution_count": 632,
   "metadata": {},
   "outputs": [],
   "source": [
    "X = data[['Wind Speed (km/h)','Visibility (km)','Summary_Partly Cloudy','SummaryFoggy*Precip Type_Snowfall','Summary_Overcast']]\n",
    "Y = data[['Temperature (C)']]"
   ]
  },
  {
   "cell_type": "code",
   "execution_count": 636,
   "metadata": {},
   "outputs": [],
   "source": [
    "# Split dataset into training and test set\n",
    "X_train, X_test, Y_train, Y_test = train_test_split(X, Y, test_size = 0.2, random_state = 0)"
   ]
  },
  {
   "cell_type": "code",
   "execution_count": 637,
   "metadata": {},
   "outputs": [
    {
     "data": {
      "text/plain": [
       "LinearRegression(copy_X=True, fit_intercept=True, n_jobs=1, normalize=False)"
      ]
     },
     "execution_count": 637,
     "metadata": {},
     "output_type": "execute_result"
    }
   ],
   "source": [
    "# Fitting the training set into simple linear regression\n",
    "regressor = linear_model.LinearRegression()\n",
    "regressor.fit(X_train, Y_train)"
   ]
  },
  {
   "cell_type": "code",
   "execution_count": 638,
   "metadata": {},
   "outputs": [
    {
     "name": "stdout",
     "output_type": "stream",
     "text": [
      "                            OLS Regression Results                            \n",
      "==============================================================================\n",
      "Dep. Variable:        Temperature (C)   R-squared:                       0.691\n",
      "Model:                            OLS   Adj. R-squared:                  0.691\n",
      "Method:                 Least Squares   F-statistic:                 4.284e+04\n",
      "Date:                Mon, 25 Feb 2019   Prob (F-statistic):               0.00\n",
      "Time:                        15:26:45   Log-Likelihood:            -3.4156e+05\n",
      "No. Observations:               95936   AIC:                         6.831e+05\n",
      "Df Residuals:                   95931   BIC:                         6.832e+05\n",
      "Df Model:                           5                                         \n",
      "Covariance Type:            nonrobust                                         \n",
      "=====================================================================================================\n",
      "                                        coef    std err          t      P>|t|      [0.025      0.975]\n",
      "-----------------------------------------------------------------------------------------------------\n",
      "Wind Speed (km/h)                     0.0784      0.004     21.245      0.000       0.071       0.086\n",
      "Visibility (km)                       0.9516      0.005    201.614      0.000       0.942       0.961\n",
      "Summary_Partly Cloudy                 3.9971      0.063     63.661      0.000       3.874       4.120\n",
      "SummaryFoggy*Precip Type_Snowfall    -5.7305      0.157    -36.387      0.000      -6.039      -5.422\n",
      "Summary_Overcast                     -2.2598      0.075    -30.172      0.000      -2.407      -2.113\n",
      "==============================================================================\n",
      "Omnibus:                       76.494   Durbin-Watson:                   0.141\n",
      "Prob(Omnibus):                  0.000   Jarque-Bera (JB):               71.068\n",
      "Skew:                          -0.039   Prob(JB):                     3.70e-16\n",
      "Kurtosis:                       2.892   Cond. No.                         92.7\n",
      "==============================================================================\n",
      "\n",
      "Warnings:\n",
      "[1] Standard Errors assume that the covariance matrix of the errors is correctly specified.\n"
     ]
    }
   ],
   "source": [
    "result = sm.OLS(Y,X).fit()\n",
    "print (result.summary())"
   ]
  },
  {
   "cell_type": "code",
   "execution_count": 639,
   "metadata": {},
   "outputs": [
    {
     "name": "stdout",
     "output_type": "stream",
     "text": [
      "Accuracy Score:23.836064989570648\n",
      "Mean Score:0.2383606498957065\n",
      "Variance Score:0.00997700464861998\n"
     ]
    }
   ],
   "source": [
    "#Applying K-fold cross validation\n",
    "score = cross_val_score(regressor , X_test ,Y_test, cv = 5)  \n",
    "print('Accuracy Score:' + str(score.mean()*100))\n",
    "print('Mean Score:' + str(score.mean()))\n",
    "print('Variance Score:' + str(score.std()))"
   ]
  },
  {
   "cell_type": "markdown",
   "metadata": {},
   "source": [
    "Obseravtion -\n",
    "On adding this interaction term, we see that the combined interaction effect of wind speed and summary others decreased the score to 23.83% although the values of R squared and adjusted R squared increased to 0.691. The value of AIC, BIC also increases. This means it gave us poor results meaning there is not a significant synergy effect in these features."
   ]
  },
  {
   "cell_type": "code",
   "execution_count": null,
   "metadata": {},
   "outputs": [],
   "source": []
  },
  {
   "cell_type": "markdown",
   "metadata": {},
   "source": [
    "# Part B : Logistic Regression"
   ]
  },
  {
   "cell_type": "markdown",
   "metadata": {},
   "source": [
    "Logistic Regression is a Machine Learning classification algorithm that is used to predict the probability of a categorical dependent variable. In logistic regression, the dependent variable is a binary variable that contains data coded as 1 (yes, success, etc.) or 0 (no, failure, etc.). In other words, the logistic regression model predicts P(Y=1) as a function of X. The activation function that is used is known as the sigmoid function."
   ]
  },
  {
   "cell_type": "markdown",
   "metadata": {},
   "source": [
    "## Model 1 "
   ]
  },
  {
   "cell_type": "markdown",
   "metadata": {},
   "source": [
    "Considering the target Variable as \"Precip Type_Snowfall\" as the target variable as it is the binary categorical column in the dataset. "
   ]
  },
  {
   "cell_type": "code",
   "execution_count": 642,
   "metadata": {
    "scrolled": true
   },
   "outputs": [
    {
     "data": {
      "text/plain": [
       "<matplotlib.axes._subplots.AxesSubplot at 0x26a5c5aa5c0>"
      ]
     },
     "execution_count": 642,
     "metadata": {},
     "output_type": "execute_result"
    },
    {
     "data": {
      "image/png": "[encoded data removed]",
      "text/plain": [
       "<Figure size 432x288 with 1 Axes>"
      ]
     },
     "metadata": {},
     "output_type": "display_data"
    }
   ],
   "source": [
    "sns.countplot(x='Precip Type_Snowfall',data=data,hue='Precip Type_Snowfall',palette = 'RdBu_r')"
   ]
  },
  {
   "cell_type": "code",
   "execution_count": 643,
   "metadata": {},
   "outputs": [
    {
     "data": {
      "text/plain": [
       "Index(['Formatted Date', 'Temperature (C)', 'Apparent Temperature (C)',\n",
       "       'Humidity', 'Wind Speed (km/h)', 'Wind Bearing (degrees)',\n",
       "       'Visibility (km)', 'Pressure (millibars)', 'Daily Summary',\n",
       "       'Precip Type_Snowfall', 'Summary_Foggy', 'Summary_Mostly Cloudy',\n",
       "       'Summary_Others', 'Summary_Overcast', 'Summary_Partly Cloudy',\n",
       "       'SummaryOthers*WindSpeed', 'SummaryFoggy*Precip Type_Snowfall'],\n",
       "      dtype='object')"
      ]
     },
     "execution_count": 643,
     "metadata": {},
     "output_type": "execute_result"
    }
   ],
   "source": [
    "data.columns"
   ]
  },
  {
   "cell_type": "markdown",
   "metadata": {},
   "source": [
    "Considering almost all the varibles in the dataset and performing backward elimination ..."
   ]
  },
  {
   "cell_type": "markdown",
   "metadata": {},
   "source": [
    "## Stepwise regression"
   ]
  },
  {
   "cell_type": "markdown",
   "metadata": {},
   "source": [
    "Stepwise regression means to iteratively select the best predictor (that improves the model the most), then the next best until we have no predictors that improves the model or use all of the predictors. This is also called forward stepwise selection.\n",
    "\n",
    "A variant called backward elimination, involves starting with all candidate predictors, testing the deletion of each variable using a chosen model comparison criterion, deleting the variable (if any) that improves the model the most by being deleted, and repeating this process until no further improvement is possible.\n",
    "\n",
    "Bidirectional elimination, a combination of the above, testing at each step for variables to be included or excluded."
   ]
  },
  {
   "cell_type": "code",
   "execution_count": 645,
   "metadata": {},
   "outputs": [],
   "source": [
    "import statsmodels.api as sm\n",
    "import statsmodels.formula.api as smf\n",
    "from sklearn.linear_model import LogisticRegression\n",
    "X=data[['Humidity', 'Wind Speed (km/h)', 'Wind Bearing (degrees)','Visibility (km)', 'Pressure (millibars)','Summary_Foggy', 'Summary_Mostly Cloudy','Summary_Others', 'Summary_Overcast', 'Summary_Partly Cloudy']]\n",
    "Y = data[['Precip Type_Snowfall']]"
   ]
  },
  {
   "cell_type": "code",
   "execution_count": 646,
   "metadata": {},
   "outputs": [],
   "source": [
    "#splitting test set and train set\n",
    "X_train,X_test,y_train,y_test=train_test_split(X,Y,test_size=0.2,random_state=0)"
   ]
  },
  {
   "cell_type": "code",
   "execution_count": 648,
   "metadata": {},
   "outputs": [
    {
     "name": "stdout",
     "output_type": "stream",
     "text": [
      "Training set score: 0.887\n",
      "Test set score: 0.884\n"
     ]
    }
   ],
   "source": [
    "# instantiate logistic regression object and train on training data\n",
    "logreg=LogisticRegression()\n",
    "logreg.fit(X_train,y_train)\n",
    "\n",
    "print(\"Training set score: {:.3f}\".format(logreg.score(X_train,y_train)))\n",
    "print(\"Test set score: {:.3f}\".format(logreg.score(X_test,y_test)))"
   ]
  },
  {
   "cell_type": "code",
   "execution_count": 650,
   "metadata": {},
   "outputs": [
    {
     "name": "stdout",
     "output_type": "stream",
     "text": [
      "Optimization terminated successfully.\n",
      "         Current function value: inf\n",
      "         Iterations 7\n",
      "                            Logit Regression Results                            \n",
      "================================================================================\n",
      "Dep. Variable:     Precip Type_Snowfall   No. Observations:                76748\n",
      "Model:                            Logit   Df Residuals:                    76738\n",
      "Method:                             MLE   Df Model:                            9\n",
      "Date:                  Mon, 25 Feb 2019   Pseudo R-squ.:                     inf\n",
      "Time:                          15:34:00   Log-Likelihood:                   -inf\n",
      "converged:                         True   LL-Null:                        0.0000\n",
      "                                          LLR p-value:                     1.000\n",
      "==========================================================================================\n",
      "                             coef    std err          z      P>|z|      [0.025      0.975]\n",
      "------------------------------------------------------------------------------------------\n",
      "Humidity                   1.3316      0.067     19.757      0.000       1.199       1.464\n",
      "Wind Speed (km/h)         -0.0029      0.002     -1.367      0.172      -0.007       0.001\n",
      "Wind Bearing (degrees)    -0.0011      0.000     -9.428      0.000      -0.001      -0.001\n",
      "Visibility (km)           -0.2034      0.004    -51.742      0.000      -0.211      -0.196\n",
      "Pressure (millibars)      -0.0004   6.72e-05     -6.587      0.000      -0.001      -0.000\n",
      "Summary_Foggy             -0.6329      0.054    -11.740      0.000      -0.739      -0.527\n",
      "Summary_Mostly Cloudy     -0.8937      0.044    -20.407      0.000      -0.980      -0.808\n",
      "Summary_Others            -0.8271      0.118     -7.015      0.000      -1.058      -0.596\n",
      "Summary_Overcast          -0.4616      0.044    -10.454      0.000      -0.548      -0.375\n",
      "Summary_Partly Cloudy     -0.8650      0.044    -19.707      0.000      -0.951      -0.779\n",
      "==========================================================================================\n"
     ]
    }
   ],
   "source": [
    "# let us fit a logit regression model to get the coefficients\n",
    "logit_model = sm.Logit(y_train,X_train)\n",
    "result = logit_model.fit()\n",
    "print(result.summary())"
   ]
  },
  {
   "cell_type": "markdown",
   "metadata": {},
   "source": [
    "Observation:                                                          \n",
    "Looking at the z scores, we know that, Humidity is the most significant feature to predict the temperature and since Wind Speed (km/h) has p score of 0.172 and also z scores of 1.367 we are not keeping this feature as it is least significant predictor and hence removing this feature."
   ]
  },
  {
   "cell_type": "code",
   "execution_count": 653,
   "metadata": {},
   "outputs": [],
   "source": [
    "from sklearn.metrics import confusion_matrix\n",
    "y_pred = logreg.predict(X_test)"
   ]
  },
  {
   "cell_type": "markdown",
   "metadata": {},
   "source": [
    "Confusion Matrix: It is nothing but a tabular representation of Actual vs Predicted values and gives us a matrix as output and describes the complete performance of the model This helps us to find the accuracy of the model and avoid overfitting."
   ]
  },
  {
   "cell_type": "code",
   "execution_count": 656,
   "metadata": {},
   "outputs": [
    {
     "data": {
      "text/plain": [
       "array([[16864,   162],\n",
       "       [ 2068,    94]], dtype=int64)"
      ]
     },
     "execution_count": 656,
     "metadata": {},
     "output_type": "execute_result"
    }
   ],
   "source": [
    "confusion_matrix = confusion_matrix(y_test,y_pred)\n",
    "confusion_matrix"
   ]
  },
  {
   "cell_type": "markdown",
   "metadata": {},
   "source": [
    "                           Predicted values\n",
    "                 [True Positive]    [False Negative]                                                                                   \n",
    "                 [False Positive]    [True Negative]                                                                                                                              "
   ]
  },
  {
   "cell_type": "markdown",
   "metadata": {},
   "source": [
    "16864 values of true positives wherein the actual and the predicted values are correct and matches.\n"
   ]
  },
  {
   "cell_type": "code",
   "execution_count": 658,
   "metadata": {},
   "outputs": [
    {
     "name": "stdout",
     "output_type": "stream",
     "text": [
      "             precision    recall  f1-score   support\n",
      "\n",
      "          0       0.89      0.99      0.94     17026\n",
      "          1       0.37      0.04      0.08      2162\n",
      "\n",
      "avg / total       0.83      0.88      0.84     19188\n",
      "\n"
     ]
    }
   ],
   "source": [
    "print(classification_report(y_test, y_pred))"
   ]
  },
  {
   "cell_type": "markdown",
   "metadata": {},
   "source": [
    "Classification report that shows the precision, recall, F1, and support scores for the model.                            \n",
    "Precision is the ability of a classiifer not to label an instance positive that is actually negative.                        \n",
    "Recall is the ability of a classifier to find all positive instances.                                                     \n",
    "The F1 score is a weighted harmonic mean of precision and recall such that the best score is 1.0 and the worst is 0.0.          \n",
    "Support is the number of actual occurrences of the class in the specified dataset. \n",
    "\n",
    "Observation -                                             \n",
    "From the below report we see that 17026 samples predict 0 as the output and 2162 predict 1 as the output."
   ]
  },
  {
   "cell_type": "code",
   "execution_count": 659,
   "metadata": {},
   "outputs": [
    {
     "data": {
      "image/png": "[encoded data removed]",
      "text/plain": [
       "<Figure size 432x288 with 1 Axes>"
      ]
     },
     "metadata": {},
     "output_type": "display_data"
    }
   ],
   "source": [
    "# plotting a roc curve to get the auc\n",
    "from sklearn.metrics import roc_curve\n",
    "falsepos,truepos,thresholds = roc_curve(y_test,logreg.decision_function(X_test))  \n",
    "# to predict confidence scores for samples\n",
    "plt.plot(falsepos,truepos,label=\"ROC\")\n",
    "plt.xlabel(\"False Positive Rate\")\n",
    "plt.ylabel(\"True Positive Rate\")\n",
    "\n",
    "cutoff = np.argmin(np.abs(thresholds))\n",
    "plt.plot(falsepos[cutoff],truepos[cutoff],'o',markersize=10,label=\"cutoff\",fillstyle=\"full\")\n",
    "plt.show()"
   ]
  },
  {
   "cell_type": "markdown",
   "metadata": {},
   "source": [
    "Area under ROC Curve (or AUC for short) is a performance metric for binary classification problems.\n",
    "\n",
    "The AUC represents a model’s ability to discriminate between positive and negative classes. An area of 1.0 represents a model that made all predictions perfectly. An area of 0.5 represents a model as good as random."
   ]
  },
  {
   "cell_type": "code",
   "execution_count": 684,
   "metadata": {},
   "outputs": [
    {
     "name": "stdout",
     "output_type": "stream",
     "text": [
      "AUC for logistic regression model : 0.7919766395260097\n"
     ]
    }
   ],
   "source": [
    "from sklearn import metrics\n",
    "\n",
    "logistic_auc = metrics.auc(falsepos, truepos)\n",
    "print(\"AUC for logistic regression model :\", logistic_auc) "
   ]
  },
  {
   "cell_type": "markdown",
   "metadata": {},
   "source": [
    "Here, AUC is relatively close to 1 and greater than 0.5 suggesting some skill in prediction"
   ]
  },
  {
   "cell_type": "code",
   "execution_count": 685,
   "metadata": {},
   "outputs": [
    {
     "name": "stdout",
     "output_type": "stream",
     "text": [
      "10-fold cross validation average accuracy: 0.887\n"
     ]
    }
   ],
   "source": [
    "from sklearn import model_selection\n",
    "from sklearn.model_selection import cross_val_score\n",
    "kfold = model_selection.KFold(n_splits=10, random_state=7)\n",
    "modelCV = LogisticRegression()\n",
    "scoring = 'accuracy'\n",
    "results = model_selection.cross_val_score(modelCV, X_train, y_train, cv=kfold, scoring=scoring)\n",
    "print(\"10-fold cross validation average accuracy: %.3f\" % (results.mean()))"
   ]
  },
  {
   "cell_type": "markdown",
   "metadata": {},
   "source": [
    "The RMSE is the square root of the variance of the residuals. It indicates the absolute fit of the model to the data–how close the observed data points are to the model’s predicted values.\n"
   ]
  },
  {
   "cell_type": "code",
   "execution_count": 665,
   "metadata": {},
   "outputs": [
    {
     "name": "stdout",
     "output_type": "stream",
     "text": [
      "Mean Absolute Error: 27.491244527829895\n",
      "Mean Squared Error: 0.11621846987700646\n",
      "Root Mean Squared Error: 0.3409083012732404\n"
     ]
    }
   ],
   "source": [
    "from sklearn import metrics  \n",
    "print('Mean Absolute Error:', metrics.mean_absolute_error(y_test, y_pred))  \n",
    "print('Mean Squared Error:', metrics.mean_squared_error(y_test, y_pred))  \n",
    "print('Root Mean Squared Error:', np.sqrt(metrics.mean_squared_error(y_test, y_pred)))"
   ]
  },
  {
   "cell_type": "code",
   "execution_count": null,
   "metadata": {},
   "outputs": [],
   "source": []
  },
  {
   "cell_type": "markdown",
   "metadata": {},
   "source": [
    "# Model 2"
   ]
  },
  {
   "cell_type": "markdown",
   "metadata": {},
   "source": [
    "On removing the feature,Wind Speed (km/h) from the above model..."
   ]
  },
  {
   "cell_type": "code",
   "execution_count": 668,
   "metadata": {},
   "outputs": [],
   "source": [
    "import statsmodels.api as sm\n",
    "import statsmodels.formula.api as smf\n",
    "from sklearn.linear_model import LogisticRegression\n",
    "X=data[['Humidity', 'Wind Bearing (degrees)','Visibility (km)', 'Pressure (millibars)','Summary_Foggy', 'Summary_Mostly Cloudy','Summary_Others', 'Summary_Overcast', 'Summary_Partly Cloudy']]\n",
    "Y = data[['Precip Type_Snowfall']]"
   ]
  },
  {
   "cell_type": "code",
   "execution_count": 669,
   "metadata": {},
   "outputs": [],
   "source": [
    "#splitting test set and train set\n",
    "X_train,X_test,y_train,y_test=train_test_split(X,Y,test_size=0.2,random_state=0)"
   ]
  },
  {
   "cell_type": "code",
   "execution_count": 670,
   "metadata": {},
   "outputs": [
    {
     "data": {
      "text/plain": [
       "LogisticRegression(C=1.0, class_weight=None, dual=False, fit_intercept=True,\n",
       "          intercept_scaling=1, max_iter=100, multi_class='ovr', n_jobs=1,\n",
       "          penalty='l2', random_state=None, solver='liblinear', tol=0.0001,\n",
       "          verbose=0, warm_start=False)"
      ]
     },
     "execution_count": 670,
     "metadata": {},
     "output_type": "execute_result"
    }
   ],
   "source": [
    "# instantiate logistic regression object and train on training data\n",
    "logreg=LogisticRegression()\n",
    "logreg.fit(X_train,y_train)"
   ]
  },
  {
   "cell_type": "code",
   "execution_count": 671,
   "metadata": {},
   "outputs": [
    {
     "name": "stdout",
     "output_type": "stream",
     "text": [
      "Training set score: 0.887\n",
      "Test set score: 0.885\n"
     ]
    }
   ],
   "source": [
    "print(\"Training set score: {:.3f}\".format(logreg.score(X_train,y_train)))\n",
    "print(\"Test set score: {:.3f}\".format(logreg.score(X_test,y_test)))"
   ]
  },
  {
   "cell_type": "code",
   "execution_count": 672,
   "metadata": {},
   "outputs": [
    {
     "name": "stdout",
     "output_type": "stream",
     "text": [
      "Optimization terminated successfully.\n",
      "         Current function value: inf\n",
      "         Iterations 7\n",
      "                            Logit Regression Results                            \n",
      "================================================================================\n",
      "Dep. Variable:     Precip Type_Snowfall   No. Observations:                76748\n",
      "Model:                            Logit   Df Residuals:                    76739\n",
      "Method:                             MLE   Df Model:                            8\n",
      "Date:                  Mon, 25 Feb 2019   Pseudo R-squ.:                     inf\n",
      "Time:                          16:12:44   Log-Likelihood:                   -inf\n",
      "converged:                         True   LL-Null:                        0.0000\n",
      "                                          LLR p-value:                     1.000\n",
      "==========================================================================================\n",
      "                             coef    std err          z      P>|z|      [0.025      0.975]\n",
      "------------------------------------------------------------------------------------------\n",
      "Humidity                   1.3338      0.067     19.814      0.000       1.202       1.466\n",
      "Wind Bearing (degrees)    -0.0011      0.000     -9.628      0.000      -0.001      -0.001\n",
      "Visibility (km)           -0.2047      0.004    -53.395      0.000      -0.212      -0.197\n",
      "Pressure (millibars)      -0.0005   6.69e-05     -6.734      0.000      -0.001      -0.000\n",
      "Summary_Foggy             -0.6433      0.053    -12.055      0.000      -0.748      -0.539\n",
      "Summary_Mostly Cloudy     -0.9043      0.043    -20.973      0.000      -0.989      -0.820\n",
      "Summary_Others            -0.8931      0.108     -8.299      0.000      -1.104      -0.682\n",
      "Summary_Overcast          -0.4763      0.043    -11.117      0.000      -0.560      -0.392\n",
      "Summary_Partly Cloudy     -0.8711      0.044    -19.948      0.000      -0.957      -0.785\n",
      "==========================================================================================\n"
     ]
    }
   ],
   "source": [
    "# let us fit a logit regression model to get the coefficients\n",
    "logit_model = sm.Logit(y_train,X_train)\n",
    "result = logit_model.fit()\n",
    "print(result.summary())"
   ]
  },
  {
   "cell_type": "markdown",
   "metadata": {},
   "source": [
    "\n",
    "Observations:\n",
    "\n",
    "Looking at the z scores, we know that, Visibility (Km) is the most significant feature to predict the temperature price followed by the rest.Cosidering the z scores Pressure(millibars) being the least significant feature we will eliminate this feature from the above model."
   ]
  },
  {
   "cell_type": "code",
   "execution_count": 674,
   "metadata": {},
   "outputs": [],
   "source": [
    "from sklearn.metrics import confusion_matrix\n",
    "y_pred = logreg.predict(X_test)"
   ]
  },
  {
   "cell_type": "code",
   "execution_count": 675,
   "metadata": {},
   "outputs": [
    {
     "data": {
      "text/plain": [
       "array([[16933,    93],\n",
       "       [ 2118,    44]], dtype=int64)"
      ]
     },
     "execution_count": 675,
     "metadata": {},
     "output_type": "execute_result"
    }
   ],
   "source": [
    "confusion_matrix = confusion_matrix(y_test,y_pred)\n",
    "confusion_matrix"
   ]
  },
  {
   "cell_type": "code",
   "execution_count": 676,
   "metadata": {},
   "outputs": [
    {
     "name": "stdout",
     "output_type": "stream",
     "text": [
      "             precision    recall  f1-score   support\n",
      "\n",
      "          0       0.89      0.99      0.94     17026\n",
      "          1       0.32      0.02      0.04      2162\n",
      "\n",
      "avg / total       0.82      0.88      0.84     19188\n",
      "\n"
     ]
    }
   ],
   "source": [
    "print(classification_report(y_test, y_pred))"
   ]
  },
  {
   "cell_type": "code",
   "execution_count": 678,
   "metadata": {},
   "outputs": [
    {
     "data": {
      "image/png": "[encoded data removed]",
      "text/plain": [
       "<Figure size 432x288 with 1 Axes>"
      ]
     },
     "metadata": {},
     "output_type": "display_data"
    }
   ],
   "source": [
    "# plotting a roc curve to get the auc\n",
    "from sklearn.metrics import roc_curve\n",
    "falsepos,truepos,thresholds = roc_curve(y_test,logreg.decision_function(X_test))\n",
    "# to predict confidence scores for samples\n",
    "\n",
    "plt.plot(falsepos,truepos,label=\"ROC\")\n",
    "plt.xlabel(\"False Positive Rate\")\n",
    "plt.ylabel(\"True Positive Rate\")\n",
    "\n",
    "cutoff = np.argmin(np.abs(thresholds))\n",
    "plt.plot(falsepos[cutoff],truepos[cutoff],'o',markersize=10,label=\"cutoff\",fillstyle=\"full\")\n",
    "plt.show()"
   ]
  },
  {
   "cell_type": "code",
   "execution_count": 679,
   "metadata": {},
   "outputs": [
    {
     "name": "stdout",
     "output_type": "stream",
     "text": [
      "AUC for logistic regression model : 0.7919766395260097\n"
     ]
    }
   ],
   "source": [
    "from sklearn import metrics\n",
    "\n",
    "logistic_auc = metrics.auc(falsepos, truepos)\n",
    "print(\"AUC for logistic regression model :\", logistic_auc)"
   ]
  },
  {
   "cell_type": "code",
   "execution_count": 680,
   "metadata": {},
   "outputs": [
    {
     "name": "stdout",
     "output_type": "stream",
     "text": [
      "10-fold cross validation average accuracy: 0.887\n"
     ]
    }
   ],
   "source": [
    "from sklearn import model_selection\n",
    "from sklearn.model_selection import cross_val_score\n",
    "kfold = model_selection.KFold(n_splits=10, random_state=7)\n",
    "modelCV = LogisticRegression()\n",
    "scoring = 'accuracy'\n",
    "results = model_selection.cross_val_score(modelCV, X_train, y_train, cv=kfold, scoring=scoring)\n",
    "print(\"10-fold cross validation average accuracy: %.3f\" % (results.mean()))"
   ]
  },
  {
   "cell_type": "markdown",
   "metadata": {},
   "source": [
    "Obseravtion - \n",
    "\n",
    "The accuracy of the model still remains the same as that of the previous model - 0.887"
   ]
  },
  {
   "cell_type": "code",
   "execution_count": 683,
   "metadata": {},
   "outputs": [
    {
     "name": "stdout",
     "output_type": "stream",
     "text": [
      "Mean Absolute Error: 28.152126328955596\n",
      "Mean Squared Error: 0.11522826766729206\n",
      "Root Mean Squared Error: 0.33945289462205513\n"
     ]
    }
   ],
   "source": [
    "print('Mean Absolute Error:', metrics.mean_absolute_error(y_test, y_pred))  \n",
    "print('Mean Squared Error:', metrics.mean_squared_error(y_test, y_pred))  \n",
    "print('Root Mean Squared Error:', np.sqrt(metrics.mean_squared_error(y_test, y_pred)))"
   ]
  },
  {
   "cell_type": "markdown",
   "metadata": {},
   "source": [
    "The root mean squared error in this model is the same as that of the previous model."
   ]
  },
  {
   "cell_type": "markdown",
   "metadata": {},
   "source": [
    "## Model 3"
   ]
  },
  {
   "cell_type": "markdown",
   "metadata": {},
   "source": [
    "### Checking for Multi - colinearity"
   ]
  },
  {
   "cell_type": "markdown",
   "metadata": {},
   "source": [
    "Checking for multicollinaerity amongst the variables - Lets now calculate the Variance Inflation Factor (VIF) for the above variables to know if there exists a multicolinearity amongst them."
   ]
  },
  {
   "cell_type": "markdown",
   "metadata": {},
   "source": [
    "# Multi-colinearity"
   ]
  },
  {
   "cell_type": "markdown",
   "metadata": {},
   "source": [
    "Multicollinearity (also collinearity) is a phenomenon in which one predictor variable in a multiple regression model can be linearly predicted from the others with a substantial degree of accuracy. In this situation the coefficient estimates of the multiple regression may change erratically in response to small changes in the model or the data. Multicollinearity does not reduce the predictive power or reliability of the model as a whole, at least within the sample data set; it only affects calculations regarding individual predictors."
   ]
  },
  {
   "cell_type": "code",
   "execution_count": 702,
   "metadata": {},
   "outputs": [],
   "source": [
    "X=data[['Humidity', 'Wind Bearing (degrees)','Pressure (millibars)','Visibility (km)','Summary_Foggy', 'Summary_Mostly Cloudy','Summary_Others', 'Summary_Overcast', 'Summary_Partly Cloudy']]"
   ]
  },
  {
   "cell_type": "code",
   "execution_count": 703,
   "metadata": {},
   "outputs": [
    {
     "data": {
      "text/html": [
       "<div>\n",
       "<style scoped>\n",
       "    .dataframe tbody tr th:only-of-type {\n",
       "        vertical-align: middle;\n",
       "    }\n",
       "\n",
       "    .dataframe tbody tr th {\n",
       "        vertical-align: top;\n",
       "    }\n",
       "\n",
       "    .dataframe thead th {\n",
       "        text-align: right;\n",
       "    }\n",
       "</style>\n",
       "<table border=\"1\" class=\"dataframe\">\n",
       "  <thead>\n",
       "    <tr style=\"text-align: right;\">\n",
       "      <th></th>\n",
       "      <th>VIF Factor</th>\n",
       "      <th>features</th>\n",
       "    </tr>\n",
       "  </thead>\n",
       "  <tbody>\n",
       "    <tr>\n",
       "      <th>0</th>\n",
       "      <td>15.8</td>\n",
       "      <td>Humidity</td>\n",
       "    </tr>\n",
       "    <tr>\n",
       "      <th>1</th>\n",
       "      <td>4.0</td>\n",
       "      <td>Wind Bearing (degrees)</td>\n",
       "    </tr>\n",
       "    <tr>\n",
       "      <th>2</th>\n",
       "      <td>33.6</td>\n",
       "      <td>Pressure (millibars)</td>\n",
       "    </tr>\n",
       "    <tr>\n",
       "      <th>3</th>\n",
       "      <td>11.0</td>\n",
       "      <td>Visibility (km)</td>\n",
       "    </tr>\n",
       "    <tr>\n",
       "      <th>4</th>\n",
       "      <td>2.4</td>\n",
       "      <td>Summary_Foggy</td>\n",
       "    </tr>\n",
       "    <tr>\n",
       "      <th>5</th>\n",
       "      <td>3.6</td>\n",
       "      <td>Summary_Mostly Cloudy</td>\n",
       "    </tr>\n",
       "    <tr>\n",
       "      <th>6</th>\n",
       "      <td>1.2</td>\n",
       "      <td>Summary_Others</td>\n",
       "    </tr>\n",
       "    <tr>\n",
       "      <th>7</th>\n",
       "      <td>2.7</td>\n",
       "      <td>Summary_Overcast</td>\n",
       "    </tr>\n",
       "    <tr>\n",
       "      <th>8</th>\n",
       "      <td>4.0</td>\n",
       "      <td>Summary_Partly Cloudy</td>\n",
       "    </tr>\n",
       "  </tbody>\n",
       "</table>\n",
       "</div>"
      ],
      "text/plain": [
       "   VIF Factor                features\n",
       "0        15.8                Humidity\n",
       "1         4.0  Wind Bearing (degrees)\n",
       "2        33.6    Pressure (millibars)\n",
       "3        11.0         Visibility (km)\n",
       "4         2.4           Summary_Foggy\n",
       "5         3.6   Summary_Mostly Cloudy\n",
       "6         1.2          Summary_Others\n",
       "7         2.7        Summary_Overcast\n",
       "8         4.0   Summary_Partly Cloudy"
      ]
     },
     "execution_count": 703,
     "metadata": {},
     "output_type": "execute_result"
    }
   ],
   "source": [
    "vif = pd.DataFrame()\n",
    "vif['VIF Factor'] = [variance_inflation_factor(X.values, i) for i in range(X.shape[1])]\n",
    "vif['features'] = X.columns\n",
    "vif.round(1)"
   ]
  },
  {
   "cell_type": "markdown",
   "metadata": {},
   "source": [
    "From the above values which are much greater than the threshold value of 5, it proves that these variables have multicolinearity amongst them. Hence, we should discard these variables before moving on to model building with high multicolinearity such as Visibilty,Pressure (millibars) and Humidity.Considering only the values with values less than threshold value of 5 for building third model for logistic regression."
   ]
  },
  {
   "cell_type": "code",
   "execution_count": 704,
   "metadata": {},
   "outputs": [],
   "source": [
    "X=data[['Wind Bearing (degrees)','Summary_Foggy', 'Summary_Mostly Cloudy','Summary_Others', 'Summary_Overcast', 'Summary_Partly Cloudy']]\n",
    "Y = data[['Precip Type_Snowfall']]"
   ]
  },
  {
   "cell_type": "code",
   "execution_count": 705,
   "metadata": {},
   "outputs": [],
   "source": [
    "#splitting test set and train set\n",
    "X_train,X_test,y_train,y_test=train_test_split(X,Y,test_size=0.2,random_state=0)"
   ]
  },
  {
   "cell_type": "code",
   "execution_count": 706,
   "metadata": {},
   "outputs": [
    {
     "data": {
      "text/plain": [
       "LogisticRegression(C=1.0, class_weight=None, dual=False, fit_intercept=True,\n",
       "          intercept_scaling=1, max_iter=100, multi_class='ovr', n_jobs=1,\n",
       "          penalty='l2', random_state=None, solver='liblinear', tol=0.0001,\n",
       "          verbose=0, warm_start=False)"
      ]
     },
     "execution_count": 706,
     "metadata": {},
     "output_type": "execute_result"
    }
   ],
   "source": [
    "# instantiate logistic regression object and train on training data\n",
    "logreg=LogisticRegression()\n",
    "logreg.fit(X_train,y_train)"
   ]
  },
  {
   "cell_type": "code",
   "execution_count": 707,
   "metadata": {},
   "outputs": [
    {
     "name": "stdout",
     "output_type": "stream",
     "text": [
      "Training set score: 0.889\n",
      "Test set score: 0.887\n"
     ]
    }
   ],
   "source": [
    "print(\"Training set score: {:.3f}\".format(logreg.score(X_train,y_train)))\n",
    "print(\"Test set score: {:.3f}\".format(logreg.score(X_test,y_test)))"
   ]
  },
  {
   "cell_type": "code",
   "execution_count": 709,
   "metadata": {},
   "outputs": [
    {
     "name": "stdout",
     "output_type": "stream",
     "text": [
      "Optimization terminated successfully.\n",
      "         Current function value: inf\n",
      "         Iterations 7\n",
      "                            Logit Regression Results                            \n",
      "================================================================================\n",
      "Dep. Variable:     Precip Type_Snowfall   No. Observations:                76748\n",
      "Model:                            Logit   Df Residuals:                    76742\n",
      "Method:                             MLE   Df Model:                            5\n",
      "Date:                  Mon, 25 Feb 2019   Pseudo R-squ.:                     inf\n",
      "Time:                          16:29:53   Log-Likelihood:                   -inf\n",
      "converged:                         True   LL-Null:                        0.0000\n",
      "                                          LLR p-value:                     1.000\n",
      "==========================================================================================\n",
      "                             coef    std err          z      P>|z|      [0.025      0.975]\n",
      "------------------------------------------------------------------------------------------\n",
      "Wind Bearing (degrees)    -0.0041   8.67e-05    -47.700      0.000      -0.004      -0.004\n",
      "Summary_Foggy              0.3551      0.031     11.535      0.000       0.295       0.415\n",
      "Summary_Mostly Cloudy     -1.9192      0.030    -63.756      0.000      -1.978      -1.860\n",
      "Summary_Others            -1.7408      0.100    -17.332      0.000      -1.938      -1.544\n",
      "Summary_Overcast          -0.9931      0.027    -36.195      0.000      -1.047      -0.939\n",
      "Summary_Partly Cloudy     -2.1600      0.031    -70.540      0.000      -2.220      -2.100\n",
      "==========================================================================================\n"
     ]
    }
   ],
   "source": [
    "# let us fit a logit regression model to get the coefficients\n",
    "logit_model = sm.Logit(y_train,X_train)\n",
    "result = logit_model.fit()\n",
    "print(result.summary())"
   ]
  },
  {
   "cell_type": "markdown",
   "metadata": {},
   "source": [
    "Observation:\n",
    "\n",
    "Looking at the z scores, we knoo that Summary_Partly Cloudy  is the most significant feature to predict the temperature followed by the rest."
   ]
  },
  {
   "cell_type": "code",
   "execution_count": 710,
   "metadata": {},
   "outputs": [],
   "source": [
    "from sklearn.metrics import confusion_matrix\n",
    "y_pred = logreg.predict(X_test)"
   ]
  },
  {
   "cell_type": "code",
   "execution_count": 711,
   "metadata": {},
   "outputs": [
    {
     "data": {
      "text/plain": [
       "array([[17026,     0],\n",
       "       [ 2162,     0]], dtype=int64)"
      ]
     },
     "execution_count": 711,
     "metadata": {},
     "output_type": "execute_result"
    }
   ],
   "source": [
    "confusion_matrix = confusion_matrix(y_test,y_pred)\n",
    "confusion_matrix"
   ]
  },
  {
   "cell_type": "code",
   "execution_count": 712,
   "metadata": {},
   "outputs": [
    {
     "name": "stdout",
     "output_type": "stream",
     "text": [
      "             precision    recall  f1-score   support\n",
      "\n",
      "          0       0.89      1.00      0.94     17026\n",
      "          1       0.00      0.00      0.00      2162\n",
      "\n",
      "avg / total       0.79      0.89      0.83     19188\n",
      "\n"
     ]
    }
   ],
   "source": [
    "print(classification_report(y_test, y_pred))"
   ]
  },
  {
   "cell_type": "code",
   "execution_count": 713,
   "metadata": {},
   "outputs": [
    {
     "data": {
      "image/png": "[encoded data removed]",
      "text/plain": [
       "<Figure size 432x288 with 1 Axes>"
      ]
     },
     "metadata": {},
     "output_type": "display_data"
    }
   ],
   "source": [
    "# plotting a roc curve to get the auc\n",
    "from sklearn.metrics import roc_curve\n",
    "falsepos,truepos,thresholds = roc_curve(y_test,logreg.decision_function(X_test))  # to predict confidence scores for samples\n",
    "\n",
    "plt.plot(falsepos,truepos,label=\"ROC\")\n",
    "plt.xlabel(\"False Positive Rate\")\n",
    "plt.ylabel(\"True Positive Rate\")\n",
    "\n",
    "cutoff = np.argmin(np.abs(thresholds))\n",
    "plt.plot(falsepos[cutoff],truepos[cutoff],'o',markersize=10,label=\"cutoff\",fillstyle=\"full\")\n",
    "plt.show()"
   ]
  },
  {
   "cell_type": "code",
   "execution_count": 714,
   "metadata": {},
   "outputs": [
    {
     "name": "stdout",
     "output_type": "stream",
     "text": [
      "AUC for logistic regression model : 0.7086119471411901\n"
     ]
    }
   ],
   "source": [
    "from sklearn import metrics\n",
    "\n",
    "logistic_auc = metrics.auc(falsepos, truepos)\n",
    "print(\"AUC for logistic regression model :\", logistic_auc)"
   ]
  },
  {
   "cell_type": "code",
   "execution_count": 715,
   "metadata": {},
   "outputs": [
    {
     "name": "stdout",
     "output_type": "stream",
     "text": [
      "10-fold cross validation average accuracy: 0.889\n"
     ]
    }
   ],
   "source": [
    "from sklearn import model_selection\n",
    "from sklearn.model_selection import cross_val_score\n",
    "kfold = model_selection.KFold(n_splits=10, random_state=7)\n",
    "modelCV = LogisticRegression()\n",
    "scoring = 'accuracy'\n",
    "results = model_selection.cross_val_score(modelCV, X_train, y_train, cv=kfold, scoring=scoring)\n",
    "print(\"10-fold cross validation average accuracy: %.3f\" % (results.mean()))"
   ]
  },
  {
   "cell_type": "raw",
   "metadata": {},
   "source": [
    "The accuracy increased slightly from 0.887 to 0.889 on checking multicollinearity against the variables and checking them.Thus this is the best model so far amongst Logistic regression models. "
   ]
  },
  {
   "cell_type": "code",
   "execution_count": null,
   "metadata": {},
   "outputs": [],
   "source": []
  },
  {
   "cell_type": "markdown",
   "metadata": {},
   "source": [
    "# Regularization"
   ]
  },
  {
   "cell_type": "markdown",
   "metadata": {},
   "source": [
    "Regularization is a method for \"constraining\" or \"regularizing\" the size of the coefficients, thus \"shrinking\" them towards zero.It reduces model variance which minimizes overfitting.\n",
    "\n",
    "Techniques:\n",
    "\n",
    "Ridge: It is majorly used to prevent overfitting.ridge regression shrinks the coefficients and it helps to reduce the model complexity and multi-collinearity\n",
    "\n",
    "Lasso: Lasso regression not only helps in reducing over-fitting but it can help us in feature selection"
   ]
  },
  {
   "cell_type": "code",
   "execution_count": 731,
   "metadata": {},
   "outputs": [
    {
     "data": {
      "text/plain": [
       "Index(['Formatted Date', 'Temperature (C)', 'Apparent Temperature (C)',\n",
       "       'Humidity', 'Wind Speed (km/h)', 'Wind Bearing (degrees)',\n",
       "       'Visibility (km)', 'Pressure (millibars)', 'Daily Summary',\n",
       "       'Precip Type_Snowfall', 'Summary_Foggy', 'Summary_Mostly Cloudy',\n",
       "       'Summary_Others', 'Summary_Overcast', 'Summary_Partly Cloudy',\n",
       "       'SummaryOthers*WindSpeed', 'SummaryFoggy*Precip Type_Snowfall'],\n",
       "      dtype='object')"
      ]
     },
     "execution_count": 731,
     "metadata": {},
     "output_type": "execute_result"
    }
   ],
   "source": [
    "data.columns"
   ]
  },
  {
   "cell_type": "code",
   "execution_count": 732,
   "metadata": {},
   "outputs": [],
   "source": [
    "# Store independent and dependent variable in X, Y respectively\n",
    "X = data[['Wind Speed (km/h)','Visibility (km)','Summary_Partly Cloudy','Humidity','Precip Type_Snowfall','Summary_Overcast']]\n",
    "Y = data[['Temperature (C)']]\n",
    "\n",
    "#splitting test set and train set\n",
    "X_train,X_test,y_train,y_test=train_test_split(X,Y,test_size=0.2,random_state=0)"
   ]
  },
  {
   "cell_type": "markdown",
   "metadata": {},
   "source": [
    "Fitting the training set to linear regression"
   ]
  },
  {
   "cell_type": "code",
   "execution_count": 734,
   "metadata": {},
   "outputs": [
    {
     "data": {
      "text/plain": [
       "LinearRegression(copy_X=True, fit_intercept=True, n_jobs=1, normalize=False)"
      ]
     },
     "execution_count": 734,
     "metadata": {},
     "output_type": "execute_result"
    }
   ],
   "source": [
    "# Fitting linear regression to training set\n",
    "lr = linear_model.LinearRegression()\n",
    "lr.fit(X_train, y_train)"
   ]
  },
  {
   "cell_type": "code",
   "execution_count": 735,
   "metadata": {},
   "outputs": [
    {
     "data": {
      "text/plain": [
       "61.781796400119426"
      ]
     },
     "execution_count": 735,
     "metadata": {},
     "output_type": "execute_result"
    }
   ],
   "source": [
    "accuracy = cross_val_score(estimator=lr, X=X_test, y=y_test, cv=5)\n",
    "accuracy.mean()*100"
   ]
  },
  {
   "cell_type": "markdown",
   "metadata": {},
   "source": [
    "The accuracy of the model before we perform ridge regression is - 61.78."
   ]
  },
  {
   "cell_type": "markdown",
   "metadata": {},
   "source": [
    "### Ridge regression"
   ]
  },
  {
   "cell_type": "code",
   "execution_count": 772,
   "metadata": {},
   "outputs": [
    {
     "data": {
      "text/plain": [
       "Ridge(alpha=0.01, copy_X=True, fit_intercept=True, max_iter=None,\n",
       "   normalize=True, random_state=None, solver='auto', tol=0.001)"
      ]
     },
     "execution_count": 772,
     "metadata": {},
     "output_type": "execute_result"
    }
   ],
   "source": [
    "# Fitting regression to training set\n",
    "#higher the alpha value, more restriction on the coefficients; low alpha > more generalization, coefficients are barely restricted and in this case \n",
    "#linear and ridge regression resembles\n",
    "rr = linear_model.Ridge(alpha=0.01, normalize=True) \n",
    "rr.fit(X_train, y_train)"
   ]
  },
  {
   "cell_type": "markdown",
   "metadata": {},
   "source": [
    "1. A tiny alpha imposes no penalty on the coefficient size, and is equivalent to a normal linear regression model.     \n",
    "2. Increasing the alpha penalizes the coefficients and thus shrinks them.                          \n",
    "Lower the constraint on the features, the model will resemble linear regression model"
   ]
  },
  {
   "cell_type": "code",
   "execution_count": 773,
   "metadata": {},
   "outputs": [
    {
     "data": {
      "text/plain": [
       "61.77721986274199"
      ]
     },
     "execution_count": 773,
     "metadata": {},
     "output_type": "execute_result"
    }
   ],
   "source": [
    "accuracy = cross_val_score(estimator=rr, X=X_test, y=y_test, cv=5)\n",
    "accuracy.mean()*100"
   ]
  },
  {
   "cell_type": "markdown",
   "metadata": {},
   "source": [
    "The accuracy after we perform ridge is the same as before - 61.77% with lower values of alpha such as 0.01."
   ]
  },
  {
   "cell_type": "code",
   "execution_count": 774,
   "metadata": {},
   "outputs": [
    {
     "data": {
      "text/plain": [
       "<matplotlib.collections.PathCollection at 0x26a5aa859e8>"
      ]
     },
     "execution_count": 774,
     "metadata": {},
     "output_type": "execute_result"
    },
    {
     "data": {
      "image/png": "[encoded data removed]",
      "text/plain": [
       "<Figure size 432x288 with 1 Axes>"
      ]
     },
     "metadata": {},
     "output_type": "display_data"
    }
   ],
   "source": [
    "y_pred = rr.predict(X_test)\n",
    "plt.scatter(y_test,y_pred)"
   ]
  },
  {
   "cell_type": "code",
   "execution_count": 775,
   "metadata": {},
   "outputs": [
    {
     "data": {
      "text/plain": [
       "5.905971860264869"
      ]
     },
     "execution_count": 775,
     "metadata": {},
     "output_type": "execute_result"
    }
   ],
   "source": [
    "rmse = np.sqrt(metrics.mean_squared_error(y_test, y_pred))\n",
    "rmse"
   ]
  },
  {
   "cell_type": "markdown",
   "metadata": {},
   "source": [
    "#### Trying with different values of alpha -- "
   ]
  },
  {
   "cell_type": "code",
   "execution_count": 778,
   "metadata": {},
   "outputs": [
    {
     "data": {
      "text/plain": [
       "Ridge(alpha=10, copy_X=True, fit_intercept=True, max_iter=None,\n",
       "   normalize=True, random_state=None, solver='auto', tol=0.001)"
      ]
     },
     "execution_count": 778,
     "metadata": {},
     "output_type": "execute_result"
    }
   ],
   "source": [
    "#Fitting regression to training set with higher values of alpha - 10\n",
    "rr = linear_model.Ridge(alpha=10, normalize=True) \n",
    "rr.fit(X_train, y_train)"
   ]
  },
  {
   "cell_type": "code",
   "execution_count": 779,
   "metadata": {},
   "outputs": [
    {
     "data": {
      "text/plain": [
       "15.791600316611893"
      ]
     },
     "execution_count": 779,
     "metadata": {},
     "output_type": "execute_result"
    }
   ],
   "source": [
    "accuracy = cross_val_score(estimator=rr, X=X_test, y=y_test, cv=5)\n",
    "accuracy.mean()*100"
   ]
  },
  {
   "cell_type": "markdown",
   "metadata": {},
   "source": [
    "The accuracy value decreases to 15.7916 from 61.78 with alpha value = 10, this is an example of shrinking coefficient magnitude using Ridge regression."
   ]
  },
  {
   "cell_type": "code",
   "execution_count": 783,
   "metadata": {},
   "outputs": [
    {
     "data": {
      "text/plain": [
       "<matplotlib.collections.PathCollection at 0x26a599b20b8>"
      ]
     },
     "execution_count": 783,
     "metadata": {},
     "output_type": "execute_result"
    },
    {
     "data": {
      "image/png": "[encoded data removed]",
      "text/plain": [
       "<Figure size 432x288 with 1 Axes>"
      ]
     },
     "metadata": {},
     "output_type": "display_data"
    }
   ],
   "source": [
    "y_pred = rr.predict(X_test)\n",
    "plt.scatter(y_test,y_pred)"
   ]
  },
  {
   "cell_type": "code",
   "execution_count": 784,
   "metadata": {},
   "outputs": [
    {
     "data": {
      "text/plain": [
       "8.771608408259333"
      ]
     },
     "execution_count": 784,
     "metadata": {},
     "output_type": "execute_result"
    }
   ],
   "source": [
    "rmse = np.sqrt(metrics.mean_squared_error(y_test, y_pred))\n",
    "rmse"
   ]
  },
  {
   "cell_type": "markdown",
   "metadata": {},
   "source": []
  },
  {
   "cell_type": "code",
   "execution_count": null,
   "metadata": {},
   "outputs": [],
   "source": []
  },
  {
   "cell_type": "markdown",
   "metadata": {},
   "source": [
    "# Conclusion"
   ]
  },
  {
   "cell_type": "markdown",
   "metadata": {},
   "source": [
    "1. On performing Linear Regression (Step wise - backward elimination) on the weather dataset  - model 4 is the best so far with accuracy of 61.78% and R squared & adjusted R squared values - 0.741 and \"Humidity\", \"Precip Type_Snowfall\" and \"Summary_Partlycloudy\" being the best predictors in determining the target variable : Temperature.\n",
    "2. With Logistic Regression on the dataset (Step wise - backward elimination and multicolinearity) - model 3 is the best so far with accuracy of 88.9% in predciting the binary target variable - Precip Type_Snowfall.\n",
    "3. Performed Ridge regularization technique with different values of alpha to observe the change in accuracy.\n",
    "when alpha = 0.01, then accuracy = 61.7%\n",
    "when alpha = 10 , then accuracy = 15.79% (on fitting both alpha values in Linear Regression )\n",
    "4. Performed linear regression with assumption of the predictors multiplying the effect or best predicting the response variable\n",
    "but with decrease in accuracy it proves that it has no synergy effect and thus that particualr feature was eliminated."
   ]
  },
  {
   "cell_type": "markdown",
   "metadata": {},
   "source": [
    "# Contributions :"
   ]
  },
  {
   "cell_type": "markdown",
   "metadata": {},
   "source": [
    "1. Performed data cleaning by checking for null values and replacing them with placeholder values along with EDA.\n",
    "2. Added necessary comments, required observations after every results and explanations to the code.\n",
    "3. Performed Linear Regression by considering the variables using the correlation function and tried to improve the accuracy of the model\n",
    "4. Performed Logistic Regression by selecting variables after checking for existence of multicolinearity by VIF method\n",
    "5. Performed Ridge regularization technique on the variables with different values of alpha.\n",
    "6. Performed backward elimination on all the models to increase the accuracy.\n",
    "\n"
   ]
  },
  {
   "cell_type": "markdown",
   "metadata": {},
   "source": [
    "Personal contribution: 35%                                                     \n",
    "External references: 65%"
   ]
  },
  {
   "cell_type": "markdown",
   "metadata": {},
   "source": [
    "# Citations"
   ]
  },
  {
   "cell_type": "markdown",
   "metadata": {},
   "source": [
    "1. https://github.com/nikbearbrown/INFO_6105/blob/master/Week_2/NBB_Linear_Regression.ipynb        \n",
    "2. https://github.com/nikbearbrown/INFO_6105/blob/master/Week_2/NBB_Logistic_Regression.ipynb\n",
    "3. https://www.kaggle.com/budincsevity/szeged-weather/version/1                                                                  \n",
    "4. https://towardsdatascience.com/data-science-simplified-simple-linear-regression-models-3a97811a6a3d                            \n",
    "5. Logistic Regression : http://www.michaeljgrogan.com/statsmodels-sklearn-linear-regression/\n",
    "6. Linear Regression : https://towardsdatascience.com/linear-regression-detailed-view-ea73175f6e86\n",
    "7. Regularization :https://towardsdatascience.com/ridge-and-lasso-regression-a-complete-guide-with-python-scikit-learn-e20e34bcbf0b\n",
    "8. https://github.com/nikbearbrown/INFO_6105/blob/master/Week_2/NBB_Regularization.ipynb"
   ]
  },
  {
   "cell_type": "markdown",
   "metadata": {},
   "source": [
    "# LICENSE"
   ]
  },
  {
   "cell_type": "markdown",
   "metadata": {},
   "source": [
    "Copyright 2019, Chaitanya Prasanna Kumar\n",
    "\n",
    "Permission is hereby granted, free of charge, to any person obtaining a copy of this software and associated documentation files (the \"Software\"), to deal in the Software without restriction, including without limitation the rights to use, copy, modify, merge, publish, distribute, sublicense, and/or sell copies of the Software, and to permit persons to whom the Software is furnished to do so, subject to the following conditions:\n",
    "\n",
    "The above copyright notice and this permission notice shall be included in all copies or substantial portions of the Software.\n",
    "\n",
    "THE SOFTWARE IS PROVIDED \"AS IS\", WITHOUT WARRANTY OF ANY KIND, EXPRESS OR IMPLIED, INCLUDING BUT NOT LIMITED TO THE WARRANTIES OF MERCHANTABILITY, FITNESS FOR A PARTICULAR PURPOSE AND NONINFRINGEMENT. IN NO EVENT SHALL THE AUTHORS OR COPYRIGHT HOLDERS BE LIABLE FOR ANY CLAIM, DAMAGES OR OTHER LIABILITY, WHETHER IN AN ACTION OF CONTRACT, TORT OR OTHERWISE, ARISING FROM, OUT OF OR IN CONNECTION WITH THE SOFTWARE OR THE USE OR OTHER DEALINGS IN THE SOFTWARE."
   ]
  },
  {
   "cell_type": "code",
   "execution_count": null,
   "metadata": {},
   "outputs": [],
   "source": []
  },
  {
   "cell_type": "code",
   "execution_count": null,
   "metadata": {},
   "outputs": [],
   "source": []
  }
 ],
 "metadata": {
  "kernelspec": {
   "display_name": "Python 3",
   "language": "python",
   "name": "python3"
  },
  "language_info": {
   "codemirror_mode": {
    "name": "ipython",
    "version": 3
   },
   "file_extension": ".py",
   "mimetype": "text/x-python",
   "name": "python",
   "nbconvert_exporter": "python",
   "pygments_lexer": "ipython3",
   "version": "3.6.5"
  }
 },
 "nbformat": 4,
 "nbformat_minor": 2
}
